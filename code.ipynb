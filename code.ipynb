{
 "cells": [
  {
   "cell_type": "markdown",
   "id": "125414a0-865b-4bcf-b493-08c6899033be",
   "metadata": {},
   "source": [
    "# Python Data Analysis"
   ]
  },
  {
   "cell_type": "markdown",
   "id": "ce2cc629-b544-4da6-ab81-bf89fae310d3",
   "metadata": {},
   "source": [
    "By: Eng. Mohamed Saber"
   ]
  },
  {
   "cell_type": "markdown",
   "id": "5e0c75b8-4425-4fe8-90e2-12ca7df96c70",
   "metadata": {},
   "source": [
    "# Full Data Analysis Case-study (Data analysis for the city of Amsterdam)"
   ]
  },
  {
   "cell_type": "markdown",
   "id": "782d56f9-209f-4f12-baf2-22061f0feb7a",
   "metadata": {},
   "source": [
    "[1] Libraries & Data Importing"
   ]
  },
  {
   "cell_type": "markdown",
   "id": "c5413a9b-7ea6-401a-8a8f-37b5b93523af",
   "metadata": {},
   "source": [
    "##### Import libraries and read in the city of Amsterdam csv file"
   ]
  },
  {
   "cell_type": "code",
   "execution_count": 6,
   "id": "7f6dfb53-ac0b-41d5-8fd5-35f24f90e8b8",
   "metadata": {},
   "outputs": [],
   "source": [
    "import pandas as pd\n",
    "import numpy as np\n",
    "import matplotlib.pyplot as plt\n",
    "import plotly.express as px\n",
    "import seaborn as sns\n",
    "from scipy import stats\n",
    "import statsmodels.api as sm"
   ]
  },
  {
   "cell_type": "code",
   "execution_count": 7,
   "id": "542decc7-485a-4b7c-9d29-4b349e8ed94a",
   "metadata": {},
   "outputs": [
    {
     "data": {
      "text/html": [
       "<div>\n",
       "<style scoped>\n",
       "    .dataframe tbody tr th:only-of-type {\n",
       "        vertical-align: middle;\n",
       "    }\n",
       "\n",
       "    .dataframe tbody tr th {\n",
       "        vertical-align: top;\n",
       "    }\n",
       "\n",
       "    .dataframe thead th {\n",
       "        text-align: right;\n",
       "    }\n",
       "</style>\n",
       "<table border=\"1\" class=\"dataframe\">\n",
       "  <thead>\n",
       "    <tr style=\"text-align: right;\">\n",
       "      <th></th>\n",
       "      <th>id</th>\n",
       "      <th>name</th>\n",
       "      <th>host_id</th>\n",
       "      <th>host_name</th>\n",
       "      <th>neighbourhood_group</th>\n",
       "      <th>neighbourhood</th>\n",
       "      <th>latitude</th>\n",
       "      <th>longitude</th>\n",
       "      <th>room_type</th>\n",
       "      <th>price</th>\n",
       "      <th>minimum_nights</th>\n",
       "      <th>number_of_reviews</th>\n",
       "      <th>last_review</th>\n",
       "      <th>reviews_per_month</th>\n",
       "      <th>calculated_host_listings_count</th>\n",
       "      <th>availability_365</th>\n",
       "      <th>number_of_reviews_ltm</th>\n",
       "      <th>license</th>\n",
       "    </tr>\n",
       "  </thead>\n",
       "  <tbody>\n",
       "    <tr>\n",
       "      <th>0</th>\n",
       "      <td>5121</td>\n",
       "      <td>Rental unit in Brooklyn · ★4.52 · 1 bedroom · ...</td>\n",
       "      <td>7356</td>\n",
       "      <td>Garon</td>\n",
       "      <td>Brooklyn</td>\n",
       "      <td>Bedford-Stuyvesant</td>\n",
       "      <td>40.68535</td>\n",
       "      <td>-73.95512</td>\n",
       "      <td>Private room</td>\n",
       "      <td>60</td>\n",
       "      <td>30</td>\n",
       "      <td>50</td>\n",
       "      <td>2019-12-02</td>\n",
       "      <td>0.29</td>\n",
       "      <td>2</td>\n",
       "      <td>0</td>\n",
       "      <td>0</td>\n",
       "      <td>NaN</td>\n",
       "    </tr>\n",
       "    <tr>\n",
       "      <th>1</th>\n",
       "      <td>2595</td>\n",
       "      <td>Rental unit in New York · ★4.68 · Studio · 1 b...</td>\n",
       "      <td>2845</td>\n",
       "      <td>Jennifer</td>\n",
       "      <td>Manhattan</td>\n",
       "      <td>Midtown</td>\n",
       "      <td>40.75356</td>\n",
       "      <td>-73.98559</td>\n",
       "      <td>Entire home/apt</td>\n",
       "      <td>240</td>\n",
       "      <td>30</td>\n",
       "      <td>49</td>\n",
       "      <td>2022-06-21</td>\n",
       "      <td>0.30</td>\n",
       "      <td>3</td>\n",
       "      <td>325</td>\n",
       "      <td>1</td>\n",
       "      <td>NaN</td>\n",
       "    </tr>\n",
       "    <tr>\n",
       "      <th>2</th>\n",
       "      <td>14991</td>\n",
       "      <td>Rental unit in New York · ★4.93 · 1 bedroom · ...</td>\n",
       "      <td>59023</td>\n",
       "      <td>Bianca</td>\n",
       "      <td>Manhattan</td>\n",
       "      <td>Lower East Side</td>\n",
       "      <td>40.72207</td>\n",
       "      <td>-73.98976</td>\n",
       "      <td>Private room</td>\n",
       "      <td>120</td>\n",
       "      <td>5</td>\n",
       "      <td>22</td>\n",
       "      <td>2023-05-14</td>\n",
       "      <td>0.14</td>\n",
       "      <td>1</td>\n",
       "      <td>268</td>\n",
       "      <td>3</td>\n",
       "      <td>NaN</td>\n",
       "    </tr>\n",
       "    <tr>\n",
       "      <th>3</th>\n",
       "      <td>5136</td>\n",
       "      <td>Rental unit in Brooklyn · ★5.0 · 2 bedrooms · ...</td>\n",
       "      <td>7378</td>\n",
       "      <td>Rebecca</td>\n",
       "      <td>Brooklyn</td>\n",
       "      <td>Sunset Park</td>\n",
       "      <td>40.66265</td>\n",
       "      <td>-73.99454</td>\n",
       "      <td>Entire home/apt</td>\n",
       "      <td>276</td>\n",
       "      <td>21</td>\n",
       "      <td>3</td>\n",
       "      <td>2022-08-10</td>\n",
       "      <td>0.03</td>\n",
       "      <td>1</td>\n",
       "      <td>275</td>\n",
       "      <td>1</td>\n",
       "      <td>NaN</td>\n",
       "    </tr>\n",
       "    <tr>\n",
       "      <th>4</th>\n",
       "      <td>59709</td>\n",
       "      <td>Rental unit in New York · ★4.77 · 2 bedrooms ·...</td>\n",
       "      <td>186084</td>\n",
       "      <td>Ricardo &amp; Ashlie</td>\n",
       "      <td>Manhattan</td>\n",
       "      <td>Chinatown</td>\n",
       "      <td>40.71780</td>\n",
       "      <td>-73.99320</td>\n",
       "      <td>Entire home/apt</td>\n",
       "      <td>325</td>\n",
       "      <td>7</td>\n",
       "      <td>69</td>\n",
       "      <td>2023-04-28</td>\n",
       "      <td>0.47</td>\n",
       "      <td>1</td>\n",
       "      <td>38</td>\n",
       "      <td>23</td>\n",
       "      <td>NaN</td>\n",
       "    </tr>\n",
       "  </tbody>\n",
       "</table>\n",
       "</div>"
      ],
      "text/plain": [
       "      id                                               name  host_id  \\\n",
       "0   5121  Rental unit in Brooklyn · ★4.52 · 1 bedroom · ...     7356   \n",
       "1   2595  Rental unit in New York · ★4.68 · Studio · 1 b...     2845   \n",
       "2  14991  Rental unit in New York · ★4.93 · 1 bedroom · ...    59023   \n",
       "3   5136  Rental unit in Brooklyn · ★5.0 · 2 bedrooms · ...     7378   \n",
       "4  59709  Rental unit in New York · ★4.77 · 2 bedrooms ·...   186084   \n",
       "\n",
       "          host_name neighbourhood_group       neighbourhood  latitude  \\\n",
       "0             Garon            Brooklyn  Bedford-Stuyvesant  40.68535   \n",
       "1          Jennifer           Manhattan             Midtown  40.75356   \n",
       "2            Bianca           Manhattan     Lower East Side  40.72207   \n",
       "3           Rebecca            Brooklyn         Sunset Park  40.66265   \n",
       "4  Ricardo & Ashlie           Manhattan           Chinatown  40.71780   \n",
       "\n",
       "   longitude        room_type  price  minimum_nights  number_of_reviews  \\\n",
       "0  -73.95512     Private room     60              30                 50   \n",
       "1  -73.98559  Entire home/apt    240              30                 49   \n",
       "2  -73.98976     Private room    120               5                 22   \n",
       "3  -73.99454  Entire home/apt    276              21                  3   \n",
       "4  -73.99320  Entire home/apt    325               7                 69   \n",
       "\n",
       "  last_review  reviews_per_month  calculated_host_listings_count  \\\n",
       "0  2019-12-02               0.29                               2   \n",
       "1  2022-06-21               0.30                               3   \n",
       "2  2023-05-14               0.14                               1   \n",
       "3  2022-08-10               0.03                               1   \n",
       "4  2023-04-28               0.47                               1   \n",
       "\n",
       "   availability_365  number_of_reviews_ltm  license  \n",
       "0                 0                      0      NaN  \n",
       "1               325                      1      NaN  \n",
       "2               268                      3      NaN  \n",
       "3               275                      1      NaN  \n",
       "4                38                     23      NaN  "
      ]
     },
     "execution_count": 7,
     "metadata": {},
     "output_type": "execute_result"
    }
   ],
   "source": [
    "listing_df = pd.read_csv(\"listings.csv\")\n",
    "listing_df.head()"
   ]
  },
  {
   "cell_type": "code",
   "execution_count": 8,
   "id": "1f61dccc-f74c-4c0a-8347-195b7c10452a",
   "metadata": {},
   "outputs": [
    {
     "data": {
      "text/plain": [
       "(43566, 18)"
      ]
     },
     "execution_count": 8,
     "metadata": {},
     "output_type": "execute_result"
    }
   ],
   "source": [
    "listing_df.shape # To get the number of rows and columns"
   ]
  },
  {
   "cell_type": "code",
   "execution_count": 9,
   "id": "4811f0ec-c0db-4f7b-b14a-b6c0c27ce468",
   "metadata": {},
   "outputs": [
    {
     "data": {
      "text/html": [
       "<div>\n",
       "<style scoped>\n",
       "    .dataframe tbody tr th:only-of-type {\n",
       "        vertical-align: middle;\n",
       "    }\n",
       "\n",
       "    .dataframe tbody tr th {\n",
       "        vertical-align: top;\n",
       "    }\n",
       "\n",
       "    .dataframe thead th {\n",
       "        text-align: right;\n",
       "    }\n",
       "</style>\n",
       "<table border=\"1\" class=\"dataframe\">\n",
       "  <thead>\n",
       "    <tr style=\"text-align: right;\">\n",
       "      <th></th>\n",
       "      <th>neighbourhood_group</th>\n",
       "      <th>neighbourhood</th>\n",
       "    </tr>\n",
       "  </thead>\n",
       "  <tbody>\n",
       "    <tr>\n",
       "      <th>0</th>\n",
       "      <td>Bronx</td>\n",
       "      <td>Allerton</td>\n",
       "    </tr>\n",
       "    <tr>\n",
       "      <th>1</th>\n",
       "      <td>Bronx</td>\n",
       "      <td>Baychester</td>\n",
       "    </tr>\n",
       "    <tr>\n",
       "      <th>2</th>\n",
       "      <td>Bronx</td>\n",
       "      <td>Belmont</td>\n",
       "    </tr>\n",
       "    <tr>\n",
       "      <th>3</th>\n",
       "      <td>Bronx</td>\n",
       "      <td>Bronxdale</td>\n",
       "    </tr>\n",
       "    <tr>\n",
       "      <th>4</th>\n",
       "      <td>Bronx</td>\n",
       "      <td>Castle Hill</td>\n",
       "    </tr>\n",
       "  </tbody>\n",
       "</table>\n",
       "</div>"
      ],
      "text/plain": [
       "  neighbourhood_group neighbourhood\n",
       "0               Bronx      Allerton\n",
       "1               Bronx    Baychester\n",
       "2               Bronx       Belmont\n",
       "3               Bronx     Bronxdale\n",
       "4               Bronx   Castle Hill"
      ]
     },
     "execution_count": 9,
     "metadata": {},
     "output_type": "execute_result"
    }
   ],
   "source": [
    "neighbourhoods_df = pd.read_csv(\"neighbourhoods.csv\")\n",
    "neighbourhoods_df.head()"
   ]
  },
  {
   "cell_type": "code",
   "execution_count": 10,
   "id": "9a2ad67f-dbf8-4f91-9a77-ced9fee74d51",
   "metadata": {},
   "outputs": [
    {
     "data": {
      "text/plain": [
       "(230, 2)"
      ]
     },
     "execution_count": 10,
     "metadata": {},
     "output_type": "execute_result"
    }
   ],
   "source": [
    "neighbourhoods_df.shape"
   ]
  },
  {
   "cell_type": "code",
   "execution_count": 11,
   "id": "3707fb12-62aa-4889-95fc-6789d35f1bc2",
   "metadata": {},
   "outputs": [
    {
     "data": {
      "text/html": [
       "<div>\n",
       "<style scoped>\n",
       "    .dataframe tbody tr th:only-of-type {\n",
       "        vertical-align: middle;\n",
       "    }\n",
       "\n",
       "    .dataframe tbody tr th {\n",
       "        vertical-align: top;\n",
       "    }\n",
       "\n",
       "    .dataframe thead th {\n",
       "        text-align: right;\n",
       "    }\n",
       "</style>\n",
       "<table border=\"1\" class=\"dataframe\">\n",
       "  <thead>\n",
       "    <tr style=\"text-align: right;\">\n",
       "      <th></th>\n",
       "      <th>id</th>\n",
       "      <th>name</th>\n",
       "      <th>host_id</th>\n",
       "      <th>host_name</th>\n",
       "      <th>neighbourhood_group</th>\n",
       "      <th>neighbourhood</th>\n",
       "      <th>latitude</th>\n",
       "      <th>longitude</th>\n",
       "      <th>room_type</th>\n",
       "      <th>price</th>\n",
       "      <th>minimum_nights</th>\n",
       "      <th>number_of_reviews</th>\n",
       "      <th>last_review</th>\n",
       "      <th>reviews_per_month</th>\n",
       "      <th>calculated_host_listings_count</th>\n",
       "      <th>availability_365</th>\n",
       "      <th>number_of_reviews_ltm</th>\n",
       "      <th>license</th>\n",
       "    </tr>\n",
       "  </thead>\n",
       "  <tbody>\n",
       "    <tr>\n",
       "      <th>0</th>\n",
       "      <td>5121.0</td>\n",
       "      <td>Rental unit in Brooklyn · ★4.52 · 1 bedroom · ...</td>\n",
       "      <td>7356.0</td>\n",
       "      <td>Garon</td>\n",
       "      <td>Brooklyn</td>\n",
       "      <td>Bedford-Stuyvesant</td>\n",
       "      <td>40.68535</td>\n",
       "      <td>-73.95512</td>\n",
       "      <td>Private room</td>\n",
       "      <td>60.0</td>\n",
       "      <td>30.0</td>\n",
       "      <td>50.0</td>\n",
       "      <td>2019-12-02</td>\n",
       "      <td>0.29</td>\n",
       "      <td>2.0</td>\n",
       "      <td>0.0</td>\n",
       "      <td>0.0</td>\n",
       "      <td>NaN</td>\n",
       "    </tr>\n",
       "    <tr>\n",
       "      <th>1</th>\n",
       "      <td>2595.0</td>\n",
       "      <td>Rental unit in New York · ★4.68 · Studio · 1 b...</td>\n",
       "      <td>2845.0</td>\n",
       "      <td>Jennifer</td>\n",
       "      <td>Manhattan</td>\n",
       "      <td>Midtown</td>\n",
       "      <td>40.75356</td>\n",
       "      <td>-73.98559</td>\n",
       "      <td>Entire home/apt</td>\n",
       "      <td>240.0</td>\n",
       "      <td>30.0</td>\n",
       "      <td>49.0</td>\n",
       "      <td>2022-06-21</td>\n",
       "      <td>0.30</td>\n",
       "      <td>3.0</td>\n",
       "      <td>325.0</td>\n",
       "      <td>1.0</td>\n",
       "      <td>NaN</td>\n",
       "    </tr>\n",
       "    <tr>\n",
       "      <th>2</th>\n",
       "      <td>14991.0</td>\n",
       "      <td>Rental unit in New York · ★4.93 · 1 bedroom · ...</td>\n",
       "      <td>59023.0</td>\n",
       "      <td>Bianca</td>\n",
       "      <td>Manhattan</td>\n",
       "      <td>Lower East Side</td>\n",
       "      <td>40.72207</td>\n",
       "      <td>-73.98976</td>\n",
       "      <td>Private room</td>\n",
       "      <td>120.0</td>\n",
       "      <td>5.0</td>\n",
       "      <td>22.0</td>\n",
       "      <td>2023-05-14</td>\n",
       "      <td>0.14</td>\n",
       "      <td>1.0</td>\n",
       "      <td>268.0</td>\n",
       "      <td>3.0</td>\n",
       "      <td>NaN</td>\n",
       "    </tr>\n",
       "    <tr>\n",
       "      <th>3</th>\n",
       "      <td>5136.0</td>\n",
       "      <td>Rental unit in Brooklyn · ★5.0 · 2 bedrooms · ...</td>\n",
       "      <td>7378.0</td>\n",
       "      <td>Rebecca</td>\n",
       "      <td>Brooklyn</td>\n",
       "      <td>Sunset Park</td>\n",
       "      <td>40.66265</td>\n",
       "      <td>-73.99454</td>\n",
       "      <td>Entire home/apt</td>\n",
       "      <td>276.0</td>\n",
       "      <td>21.0</td>\n",
       "      <td>3.0</td>\n",
       "      <td>2022-08-10</td>\n",
       "      <td>0.03</td>\n",
       "      <td>1.0</td>\n",
       "      <td>275.0</td>\n",
       "      <td>1.0</td>\n",
       "      <td>NaN</td>\n",
       "    </tr>\n",
       "    <tr>\n",
       "      <th>4</th>\n",
       "      <td>59709.0</td>\n",
       "      <td>Rental unit in New York · ★4.77 · 2 bedrooms ·...</td>\n",
       "      <td>186084.0</td>\n",
       "      <td>Ricardo &amp; Ashlie</td>\n",
       "      <td>Manhattan</td>\n",
       "      <td>Chinatown</td>\n",
       "      <td>40.71780</td>\n",
       "      <td>-73.99320</td>\n",
       "      <td>Entire home/apt</td>\n",
       "      <td>325.0</td>\n",
       "      <td>7.0</td>\n",
       "      <td>69.0</td>\n",
       "      <td>2023-04-28</td>\n",
       "      <td>0.47</td>\n",
       "      <td>1.0</td>\n",
       "      <td>38.0</td>\n",
       "      <td>23.0</td>\n",
       "      <td>NaN</td>\n",
       "    </tr>\n",
       "  </tbody>\n",
       "</table>\n",
       "</div>"
      ],
      "text/plain": [
       "        id                                               name   host_id  \\\n",
       "0   5121.0  Rental unit in Brooklyn · ★4.52 · 1 bedroom · ...    7356.0   \n",
       "1   2595.0  Rental unit in New York · ★4.68 · Studio · 1 b...    2845.0   \n",
       "2  14991.0  Rental unit in New York · ★4.93 · 1 bedroom · ...   59023.0   \n",
       "3   5136.0  Rental unit in Brooklyn · ★5.0 · 2 bedrooms · ...    7378.0   \n",
       "4  59709.0  Rental unit in New York · ★4.77 · 2 bedrooms ·...  186084.0   \n",
       "\n",
       "          host_name neighbourhood_group       neighbourhood  latitude  \\\n",
       "0             Garon            Brooklyn  Bedford-Stuyvesant  40.68535   \n",
       "1          Jennifer           Manhattan             Midtown  40.75356   \n",
       "2            Bianca           Manhattan     Lower East Side  40.72207   \n",
       "3           Rebecca            Brooklyn         Sunset Park  40.66265   \n",
       "4  Ricardo & Ashlie           Manhattan           Chinatown  40.71780   \n",
       "\n",
       "   longitude        room_type  price  minimum_nights  number_of_reviews  \\\n",
       "0  -73.95512     Private room   60.0            30.0               50.0   \n",
       "1  -73.98559  Entire home/apt  240.0            30.0               49.0   \n",
       "2  -73.98976     Private room  120.0             5.0               22.0   \n",
       "3  -73.99454  Entire home/apt  276.0            21.0                3.0   \n",
       "4  -73.99320  Entire home/apt  325.0             7.0               69.0   \n",
       "\n",
       "  last_review  reviews_per_month  calculated_host_listings_count  \\\n",
       "0  2019-12-02               0.29                             2.0   \n",
       "1  2022-06-21               0.30                             3.0   \n",
       "2  2023-05-14               0.14                             1.0   \n",
       "3  2022-08-10               0.03                             1.0   \n",
       "4  2023-04-28               0.47                             1.0   \n",
       "\n",
       "   availability_365  number_of_reviews_ltm  license  \n",
       "0               0.0                    0.0      NaN  \n",
       "1             325.0                    1.0      NaN  \n",
       "2             268.0                    3.0      NaN  \n",
       "3             275.0                    1.0      NaN  \n",
       "4              38.0                   23.0      NaN  "
      ]
     },
     "execution_count": 11,
     "metadata": {},
     "output_type": "execute_result"
    }
   ],
   "source": [
    "df_combined = pd.concat([listing_df, neighbourhoods_df])# concat listing and neighbour in neighbourhood and neighbourhood_group\n",
    "df_combined.head()"
   ]
  },
  {
   "cell_type": "code",
   "execution_count": 12,
   "id": "f1052813-1dc1-4f29-ab13-b3fd48bf3fd8",
   "metadata": {},
   "outputs": [
    {
     "data": {
      "text/html": [
       "<div>\n",
       "<style scoped>\n",
       "    .dataframe tbody tr th:only-of-type {\n",
       "        vertical-align: middle;\n",
       "    }\n",
       "\n",
       "    .dataframe tbody tr th {\n",
       "        vertical-align: top;\n",
       "    }\n",
       "\n",
       "    .dataframe thead th {\n",
       "        text-align: right;\n",
       "    }\n",
       "</style>\n",
       "<table border=\"1\" class=\"dataframe\">\n",
       "  <thead>\n",
       "    <tr style=\"text-align: right;\">\n",
       "      <th></th>\n",
       "      <th>listing_id</th>\n",
       "      <th>date</th>\n",
       "    </tr>\n",
       "  </thead>\n",
       "  <tbody>\n",
       "    <tr>\n",
       "      <th>0</th>\n",
       "      <td>5121</td>\n",
       "      <td>2009-05-28</td>\n",
       "    </tr>\n",
       "    <tr>\n",
       "      <th>1</th>\n",
       "      <td>2595</td>\n",
       "      <td>2009-11-21</td>\n",
       "    </tr>\n",
       "    <tr>\n",
       "      <th>2</th>\n",
       "      <td>2595</td>\n",
       "      <td>2009-12-05</td>\n",
       "    </tr>\n",
       "    <tr>\n",
       "      <th>3</th>\n",
       "      <td>2595</td>\n",
       "      <td>2009-12-10</td>\n",
       "    </tr>\n",
       "    <tr>\n",
       "      <th>4</th>\n",
       "      <td>2595</td>\n",
       "      <td>2010-04-09</td>\n",
       "    </tr>\n",
       "  </tbody>\n",
       "</table>\n",
       "</div>"
      ],
      "text/plain": [
       "   listing_id        date\n",
       "0        5121  2009-05-28\n",
       "1        2595  2009-11-21\n",
       "2        2595  2009-12-05\n",
       "3        2595  2009-12-10\n",
       "4        2595  2010-04-09"
      ]
     },
     "execution_count": 12,
     "metadata": {},
     "output_type": "execute_result"
    }
   ],
   "source": [
    "reviw_df = pd.read_csv(\"reviews.csv\")\n",
    "reviw_df.head()"
   ]
  },
  {
   "cell_type": "code",
   "execution_count": 13,
   "id": "f380ddda-c87f-43f0-90dd-1a14aa006bc2",
   "metadata": {},
   "outputs": [],
   "source": [
    "reviw_df['last_review'] = reviw_df['date']# change date column to be last review to concat the two files "
   ]
  },
  {
   "cell_type": "code",
   "execution_count": 14,
   "id": "0265e991-8e32-4ab9-84e3-27ce698d6ae9",
   "metadata": {},
   "outputs": [
    {
     "data": {
      "text/html": [
       "<div>\n",
       "<style scoped>\n",
       "    .dataframe tbody tr th:only-of-type {\n",
       "        vertical-align: middle;\n",
       "    }\n",
       "\n",
       "    .dataframe tbody tr th {\n",
       "        vertical-align: top;\n",
       "    }\n",
       "\n",
       "    .dataframe thead th {\n",
       "        text-align: right;\n",
       "    }\n",
       "</style>\n",
       "<table border=\"1\" class=\"dataframe\">\n",
       "  <thead>\n",
       "    <tr style=\"text-align: right;\">\n",
       "      <th></th>\n",
       "      <th>listing_id</th>\n",
       "      <th>last_review</th>\n",
       "    </tr>\n",
       "  </thead>\n",
       "  <tbody>\n",
       "    <tr>\n",
       "      <th>0</th>\n",
       "      <td>5121</td>\n",
       "      <td>2009-05-28</td>\n",
       "    </tr>\n",
       "    <tr>\n",
       "      <th>1</th>\n",
       "      <td>2595</td>\n",
       "      <td>2009-11-21</td>\n",
       "    </tr>\n",
       "    <tr>\n",
       "      <th>2</th>\n",
       "      <td>2595</td>\n",
       "      <td>2009-12-05</td>\n",
       "    </tr>\n",
       "    <tr>\n",
       "      <th>3</th>\n",
       "      <td>2595</td>\n",
       "      <td>2009-12-10</td>\n",
       "    </tr>\n",
       "    <tr>\n",
       "      <th>4</th>\n",
       "      <td>2595</td>\n",
       "      <td>2010-04-09</td>\n",
       "    </tr>\n",
       "  </tbody>\n",
       "</table>\n",
       "</div>"
      ],
      "text/plain": [
       "   listing_id last_review\n",
       "0        5121  2009-05-28\n",
       "1        2595  2009-11-21\n",
       "2        2595  2009-12-05\n",
       "3        2595  2009-12-10\n",
       "4        2595  2010-04-09"
      ]
     },
     "execution_count": 14,
     "metadata": {},
     "output_type": "execute_result"
    }
   ],
   "source": [
    "reviw_df.drop(['date'],axis = 1,inplace =True)\n",
    "reviw_df.head()"
   ]
  },
  {
   "cell_type": "code",
   "execution_count": 15,
   "id": "6d2cfad8-f335-4f8d-b9d2-8c56cc2580cb",
   "metadata": {},
   "outputs": [
    {
     "data": {
      "text/plain": [
       "(1148772, 2)"
      ]
     },
     "execution_count": 15,
     "metadata": {},
     "output_type": "execute_result"
    }
   ],
   "source": [
    "reviw_df.shape"
   ]
  },
  {
   "cell_type": "code",
   "execution_count": 16,
   "id": "ab87be4a-f804-4946-900b-cf2afbc26c98",
   "metadata": {},
   "outputs": [
    {
     "data": {
      "text/html": [
       "<div>\n",
       "<style scoped>\n",
       "    .dataframe tbody tr th:only-of-type {\n",
       "        vertical-align: middle;\n",
       "    }\n",
       "\n",
       "    .dataframe tbody tr th {\n",
       "        vertical-align: top;\n",
       "    }\n",
       "\n",
       "    .dataframe thead th {\n",
       "        text-align: right;\n",
       "    }\n",
       "</style>\n",
       "<table border=\"1\" class=\"dataframe\">\n",
       "  <thead>\n",
       "    <tr style=\"text-align: right;\">\n",
       "      <th></th>\n",
       "      <th>id</th>\n",
       "      <th>name</th>\n",
       "      <th>host_id</th>\n",
       "      <th>host_name</th>\n",
       "      <th>neighbourhood_group</th>\n",
       "      <th>neighbourhood</th>\n",
       "      <th>latitude</th>\n",
       "      <th>longitude</th>\n",
       "      <th>room_type</th>\n",
       "      <th>price</th>\n",
       "      <th>minimum_nights</th>\n",
       "      <th>number_of_reviews</th>\n",
       "      <th>last_review</th>\n",
       "      <th>reviews_per_month</th>\n",
       "      <th>calculated_host_listings_count</th>\n",
       "      <th>availability_365</th>\n",
       "      <th>number_of_reviews_ltm</th>\n",
       "      <th>license</th>\n",
       "      <th>listing_id</th>\n",
       "    </tr>\n",
       "  </thead>\n",
       "  <tbody>\n",
       "    <tr>\n",
       "      <th>0</th>\n",
       "      <td>5121.0</td>\n",
       "      <td>Rental unit in Brooklyn · ★4.52 · 1 bedroom · ...</td>\n",
       "      <td>7356.0</td>\n",
       "      <td>Garon</td>\n",
       "      <td>Brooklyn</td>\n",
       "      <td>Bedford-Stuyvesant</td>\n",
       "      <td>40.68535</td>\n",
       "      <td>-73.95512</td>\n",
       "      <td>Private room</td>\n",
       "      <td>60.0</td>\n",
       "      <td>30.0</td>\n",
       "      <td>50.0</td>\n",
       "      <td>2019-12-02</td>\n",
       "      <td>0.29</td>\n",
       "      <td>2.0</td>\n",
       "      <td>0.0</td>\n",
       "      <td>0.0</td>\n",
       "      <td>NaN</td>\n",
       "      <td>NaN</td>\n",
       "    </tr>\n",
       "    <tr>\n",
       "      <th>1</th>\n",
       "      <td>2595.0</td>\n",
       "      <td>Rental unit in New York · ★4.68 · Studio · 1 b...</td>\n",
       "      <td>2845.0</td>\n",
       "      <td>Jennifer</td>\n",
       "      <td>Manhattan</td>\n",
       "      <td>Midtown</td>\n",
       "      <td>40.75356</td>\n",
       "      <td>-73.98559</td>\n",
       "      <td>Entire home/apt</td>\n",
       "      <td>240.0</td>\n",
       "      <td>30.0</td>\n",
       "      <td>49.0</td>\n",
       "      <td>2022-06-21</td>\n",
       "      <td>0.30</td>\n",
       "      <td>3.0</td>\n",
       "      <td>325.0</td>\n",
       "      <td>1.0</td>\n",
       "      <td>NaN</td>\n",
       "      <td>NaN</td>\n",
       "    </tr>\n",
       "    <tr>\n",
       "      <th>2</th>\n",
       "      <td>14991.0</td>\n",
       "      <td>Rental unit in New York · ★4.93 · 1 bedroom · ...</td>\n",
       "      <td>59023.0</td>\n",
       "      <td>Bianca</td>\n",
       "      <td>Manhattan</td>\n",
       "      <td>Lower East Side</td>\n",
       "      <td>40.72207</td>\n",
       "      <td>-73.98976</td>\n",
       "      <td>Private room</td>\n",
       "      <td>120.0</td>\n",
       "      <td>5.0</td>\n",
       "      <td>22.0</td>\n",
       "      <td>2023-05-14</td>\n",
       "      <td>0.14</td>\n",
       "      <td>1.0</td>\n",
       "      <td>268.0</td>\n",
       "      <td>3.0</td>\n",
       "      <td>NaN</td>\n",
       "      <td>NaN</td>\n",
       "    </tr>\n",
       "    <tr>\n",
       "      <th>3</th>\n",
       "      <td>5136.0</td>\n",
       "      <td>Rental unit in Brooklyn · ★5.0 · 2 bedrooms · ...</td>\n",
       "      <td>7378.0</td>\n",
       "      <td>Rebecca</td>\n",
       "      <td>Brooklyn</td>\n",
       "      <td>Sunset Park</td>\n",
       "      <td>40.66265</td>\n",
       "      <td>-73.99454</td>\n",
       "      <td>Entire home/apt</td>\n",
       "      <td>276.0</td>\n",
       "      <td>21.0</td>\n",
       "      <td>3.0</td>\n",
       "      <td>2022-08-10</td>\n",
       "      <td>0.03</td>\n",
       "      <td>1.0</td>\n",
       "      <td>275.0</td>\n",
       "      <td>1.0</td>\n",
       "      <td>NaN</td>\n",
       "      <td>NaN</td>\n",
       "    </tr>\n",
       "    <tr>\n",
       "      <th>4</th>\n",
       "      <td>59709.0</td>\n",
       "      <td>Rental unit in New York · ★4.77 · 2 bedrooms ·...</td>\n",
       "      <td>186084.0</td>\n",
       "      <td>Ricardo &amp; Ashlie</td>\n",
       "      <td>Manhattan</td>\n",
       "      <td>Chinatown</td>\n",
       "      <td>40.71780</td>\n",
       "      <td>-73.99320</td>\n",
       "      <td>Entire home/apt</td>\n",
       "      <td>325.0</td>\n",
       "      <td>7.0</td>\n",
       "      <td>69.0</td>\n",
       "      <td>2023-04-28</td>\n",
       "      <td>0.47</td>\n",
       "      <td>1.0</td>\n",
       "      <td>38.0</td>\n",
       "      <td>23.0</td>\n",
       "      <td>NaN</td>\n",
       "      <td>NaN</td>\n",
       "    </tr>\n",
       "  </tbody>\n",
       "</table>\n",
       "</div>"
      ],
      "text/plain": [
       "        id                                               name   host_id  \\\n",
       "0   5121.0  Rental unit in Brooklyn · ★4.52 · 1 bedroom · ...    7356.0   \n",
       "1   2595.0  Rental unit in New York · ★4.68 · Studio · 1 b...    2845.0   \n",
       "2  14991.0  Rental unit in New York · ★4.93 · 1 bedroom · ...   59023.0   \n",
       "3   5136.0  Rental unit in Brooklyn · ★5.0 · 2 bedrooms · ...    7378.0   \n",
       "4  59709.0  Rental unit in New York · ★4.77 · 2 bedrooms ·...  186084.0   \n",
       "\n",
       "          host_name neighbourhood_group       neighbourhood  latitude  \\\n",
       "0             Garon            Brooklyn  Bedford-Stuyvesant  40.68535   \n",
       "1          Jennifer           Manhattan             Midtown  40.75356   \n",
       "2            Bianca           Manhattan     Lower East Side  40.72207   \n",
       "3           Rebecca            Brooklyn         Sunset Park  40.66265   \n",
       "4  Ricardo & Ashlie           Manhattan           Chinatown  40.71780   \n",
       "\n",
       "   longitude        room_type  price  minimum_nights  number_of_reviews  \\\n",
       "0  -73.95512     Private room   60.0            30.0               50.0   \n",
       "1  -73.98559  Entire home/apt  240.0            30.0               49.0   \n",
       "2  -73.98976     Private room  120.0             5.0               22.0   \n",
       "3  -73.99454  Entire home/apt  276.0            21.0                3.0   \n",
       "4  -73.99320  Entire home/apt  325.0             7.0               69.0   \n",
       "\n",
       "  last_review  reviews_per_month  calculated_host_listings_count  \\\n",
       "0  2019-12-02               0.29                             2.0   \n",
       "1  2022-06-21               0.30                             3.0   \n",
       "2  2023-05-14               0.14                             1.0   \n",
       "3  2022-08-10               0.03                             1.0   \n",
       "4  2023-04-28               0.47                             1.0   \n",
       "\n",
       "   availability_365  number_of_reviews_ltm  license  listing_id  \n",
       "0               0.0                    0.0      NaN         NaN  \n",
       "1             325.0                    1.0      NaN         NaN  \n",
       "2             268.0                    3.0      NaN         NaN  \n",
       "3             275.0                    1.0      NaN         NaN  \n",
       "4              38.0                   23.0      NaN         NaN  "
      ]
     },
     "execution_count": 16,
     "metadata": {},
     "output_type": "execute_result"
    }
   ],
   "source": [
    "df = pd.concat([df_combined, reviw_df])\n",
    "df.head()"
   ]
  },
  {
   "cell_type": "markdown",
   "id": "18b53f2d-c758-4edd-81fd-4fa801b41ea7",
   "metadata": {},
   "source": [
    "How many rows and columns are there?"
   ]
  },
  {
   "cell_type": "code",
   "execution_count": 18,
   "id": "5d80bf1e-11a8-4dad-9938-b0602688789d",
   "metadata": {},
   "outputs": [
    {
     "name": "stdout",
     "output_type": "stream",
     "text": [
      "<class 'pandas.core.frame.DataFrame'>\n",
      "Index: 1192568 entries, 0 to 1148771\n",
      "Data columns (total 19 columns):\n",
      " #   Column                          Non-Null Count    Dtype  \n",
      "---  ------                          --------------    -----  \n",
      " 0   id                              43566 non-null    float64\n",
      " 1   name                            43566 non-null    object \n",
      " 2   host_id                         43566 non-null    float64\n",
      " 3   host_name                       43561 non-null    object \n",
      " 4   neighbourhood_group             43796 non-null    object \n",
      " 5   neighbourhood                   43796 non-null    object \n",
      " 6   latitude                        43566 non-null    float64\n",
      " 7   longitude                       43566 non-null    float64\n",
      " 8   room_type                       43566 non-null    object \n",
      " 9   price                           43566 non-null    float64\n",
      " 10  minimum_nights                  43566 non-null    float64\n",
      " 11  number_of_reviews               43566 non-null    float64\n",
      " 12  last_review                     1181842 non-null  object \n",
      " 13  reviews_per_month               33070 non-null    float64\n",
      " 14  calculated_host_listings_count  43566 non-null    float64\n",
      " 15  availability_365                43566 non-null    float64\n",
      " 16  number_of_reviews_ltm           43566 non-null    float64\n",
      " 17  license                         0 non-null        float64\n",
      " 18  listing_id                      1148772 non-null  float64\n",
      "dtypes: float64(13), object(6)\n",
      "memory usage: 182.0+ MB\n"
     ]
    }
   ],
   "source": [
    "df.info() # Information about data"
   ]
  },
  {
   "cell_type": "markdown",
   "id": "f68db853-a170-41ef-a3bd-9bbe71ec7d28",
   "metadata": {},
   "source": [
    "### [3] Data Wrangling (Cleaning & Manipulation)"
   ]
  },
  {
   "cell_type": "markdown",
   "id": "eea6ca5d-733b-49d1-bdea-381cc1331de4",
   "metadata": {},
   "source": [
    "##### Are there any missing / duplicated data?"
   ]
  },
  {
   "cell_type": "code",
   "execution_count": 23,
   "id": "2dda1b33-8965-4699-9f0c-e143f229a122",
   "metadata": {},
   "outputs": [
    {
     "data": {
      "text/plain": [
       "id                                 96.346875\n",
       "name                               96.346875\n",
       "host_id                            96.346875\n",
       "host_name                          96.347294\n",
       "neighbourhood_group                96.327589\n",
       "neighbourhood                      96.327589\n",
       "latitude                           96.346875\n",
       "longitude                          96.346875\n",
       "room_type                          96.346875\n",
       "price                              96.346875\n",
       "minimum_nights                     96.346875\n",
       "number_of_reviews                  96.346875\n",
       "last_review                         0.899404\n",
       "reviews_per_month                  97.226993\n",
       "calculated_host_listings_count     96.346875\n",
       "availability_365                   96.346875\n",
       "number_of_reviews_ltm              96.346875\n",
       "license                           100.000000\n",
       "listing_id                          3.672411\n",
       "dtype: float64"
      ]
     },
     "execution_count": 23,
     "metadata": {},
     "output_type": "execute_result"
    }
   ],
   "source": [
    "df.isna().sum()/(df.shape[0]) * 100 # If the data contains missing data"
   ]
  },
  {
   "cell_type": "markdown",
   "id": "b0b9f06b-5277-49e1-ac11-8b478cbcd958",
   "metadata": {},
   "source": [
    "we have that column last review and listing id have less than 1 % and 3.6 % respectively so when we delete them the data will not be affected so let's drop them"
   ]
  },
  {
   "cell_type": "code",
   "execution_count": 24,
   "id": "c392f4e1-ef9f-41b4-99fa-66df18681351",
   "metadata": {},
   "outputs": [],
   "source": [
    "df.drop(['listing_id',\"last_review\",\"license\"],axis = 1,inplace =True)"
   ]
  },
  {
   "cell_type": "code",
   "execution_count": 25,
   "id": "9e8800e8-0e4c-42c1-9000-d5fe2677cf55",
   "metadata": {},
   "outputs": [
    {
     "data": {
      "text/html": [
       "<div>\n",
       "<style scoped>\n",
       "    .dataframe tbody tr th:only-of-type {\n",
       "        vertical-align: middle;\n",
       "    }\n",
       "\n",
       "    .dataframe tbody tr th {\n",
       "        vertical-align: top;\n",
       "    }\n",
       "\n",
       "    .dataframe thead th {\n",
       "        text-align: right;\n",
       "    }\n",
       "</style>\n",
       "<table border=\"1\" class=\"dataframe\">\n",
       "  <thead>\n",
       "    <tr style=\"text-align: right;\">\n",
       "      <th></th>\n",
       "      <th>id</th>\n",
       "      <th>name</th>\n",
       "      <th>host_id</th>\n",
       "      <th>host_name</th>\n",
       "      <th>neighbourhood_group</th>\n",
       "      <th>neighbourhood</th>\n",
       "      <th>latitude</th>\n",
       "      <th>longitude</th>\n",
       "      <th>room_type</th>\n",
       "      <th>price</th>\n",
       "      <th>minimum_nights</th>\n",
       "      <th>number_of_reviews</th>\n",
       "      <th>reviews_per_month</th>\n",
       "      <th>calculated_host_listings_count</th>\n",
       "      <th>availability_365</th>\n",
       "      <th>number_of_reviews_ltm</th>\n",
       "    </tr>\n",
       "  </thead>\n",
       "  <tbody>\n",
       "    <tr>\n",
       "      <th>0</th>\n",
       "      <td>5121.0</td>\n",
       "      <td>Rental unit in Brooklyn · ★4.52 · 1 bedroom · ...</td>\n",
       "      <td>7356.0</td>\n",
       "      <td>Garon</td>\n",
       "      <td>Brooklyn</td>\n",
       "      <td>Bedford-Stuyvesant</td>\n",
       "      <td>40.68535</td>\n",
       "      <td>-73.95512</td>\n",
       "      <td>Private room</td>\n",
       "      <td>60.0</td>\n",
       "      <td>30.0</td>\n",
       "      <td>50.0</td>\n",
       "      <td>0.29</td>\n",
       "      <td>2.0</td>\n",
       "      <td>0.0</td>\n",
       "      <td>0.0</td>\n",
       "    </tr>\n",
       "    <tr>\n",
       "      <th>1</th>\n",
       "      <td>2595.0</td>\n",
       "      <td>Rental unit in New York · ★4.68 · Studio · 1 b...</td>\n",
       "      <td>2845.0</td>\n",
       "      <td>Jennifer</td>\n",
       "      <td>Manhattan</td>\n",
       "      <td>Midtown</td>\n",
       "      <td>40.75356</td>\n",
       "      <td>-73.98559</td>\n",
       "      <td>Entire home/apt</td>\n",
       "      <td>240.0</td>\n",
       "      <td>30.0</td>\n",
       "      <td>49.0</td>\n",
       "      <td>0.30</td>\n",
       "      <td>3.0</td>\n",
       "      <td>325.0</td>\n",
       "      <td>1.0</td>\n",
       "    </tr>\n",
       "    <tr>\n",
       "      <th>2</th>\n",
       "      <td>14991.0</td>\n",
       "      <td>Rental unit in New York · ★4.93 · 1 bedroom · ...</td>\n",
       "      <td>59023.0</td>\n",
       "      <td>Bianca</td>\n",
       "      <td>Manhattan</td>\n",
       "      <td>Lower East Side</td>\n",
       "      <td>40.72207</td>\n",
       "      <td>-73.98976</td>\n",
       "      <td>Private room</td>\n",
       "      <td>120.0</td>\n",
       "      <td>5.0</td>\n",
       "      <td>22.0</td>\n",
       "      <td>0.14</td>\n",
       "      <td>1.0</td>\n",
       "      <td>268.0</td>\n",
       "      <td>3.0</td>\n",
       "    </tr>\n",
       "    <tr>\n",
       "      <th>3</th>\n",
       "      <td>5136.0</td>\n",
       "      <td>Rental unit in Brooklyn · ★5.0 · 2 bedrooms · ...</td>\n",
       "      <td>7378.0</td>\n",
       "      <td>Rebecca</td>\n",
       "      <td>Brooklyn</td>\n",
       "      <td>Sunset Park</td>\n",
       "      <td>40.66265</td>\n",
       "      <td>-73.99454</td>\n",
       "      <td>Entire home/apt</td>\n",
       "      <td>276.0</td>\n",
       "      <td>21.0</td>\n",
       "      <td>3.0</td>\n",
       "      <td>0.03</td>\n",
       "      <td>1.0</td>\n",
       "      <td>275.0</td>\n",
       "      <td>1.0</td>\n",
       "    </tr>\n",
       "    <tr>\n",
       "      <th>4</th>\n",
       "      <td>59709.0</td>\n",
       "      <td>Rental unit in New York · ★4.77 · 2 bedrooms ·...</td>\n",
       "      <td>186084.0</td>\n",
       "      <td>Ricardo &amp; Ashlie</td>\n",
       "      <td>Manhattan</td>\n",
       "      <td>Chinatown</td>\n",
       "      <td>40.71780</td>\n",
       "      <td>-73.99320</td>\n",
       "      <td>Entire home/apt</td>\n",
       "      <td>325.0</td>\n",
       "      <td>7.0</td>\n",
       "      <td>69.0</td>\n",
       "      <td>0.47</td>\n",
       "      <td>1.0</td>\n",
       "      <td>38.0</td>\n",
       "      <td>23.0</td>\n",
       "    </tr>\n",
       "  </tbody>\n",
       "</table>\n",
       "</div>"
      ],
      "text/plain": [
       "        id                                               name   host_id  \\\n",
       "0   5121.0  Rental unit in Brooklyn · ★4.52 · 1 bedroom · ...    7356.0   \n",
       "1   2595.0  Rental unit in New York · ★4.68 · Studio · 1 b...    2845.0   \n",
       "2  14991.0  Rental unit in New York · ★4.93 · 1 bedroom · ...   59023.0   \n",
       "3   5136.0  Rental unit in Brooklyn · ★5.0 · 2 bedrooms · ...    7378.0   \n",
       "4  59709.0  Rental unit in New York · ★4.77 · 2 bedrooms ·...  186084.0   \n",
       "\n",
       "          host_name neighbourhood_group       neighbourhood  latitude  \\\n",
       "0             Garon            Brooklyn  Bedford-Stuyvesant  40.68535   \n",
       "1          Jennifer           Manhattan             Midtown  40.75356   \n",
       "2            Bianca           Manhattan     Lower East Side  40.72207   \n",
       "3           Rebecca            Brooklyn         Sunset Park  40.66265   \n",
       "4  Ricardo & Ashlie           Manhattan           Chinatown  40.71780   \n",
       "\n",
       "   longitude        room_type  price  minimum_nights  number_of_reviews  \\\n",
       "0  -73.95512     Private room   60.0            30.0               50.0   \n",
       "1  -73.98559  Entire home/apt  240.0            30.0               49.0   \n",
       "2  -73.98976     Private room  120.0             5.0               22.0   \n",
       "3  -73.99454  Entire home/apt  276.0            21.0                3.0   \n",
       "4  -73.99320  Entire home/apt  325.0             7.0               69.0   \n",
       "\n",
       "   reviews_per_month  calculated_host_listings_count  availability_365  \\\n",
       "0               0.29                             2.0               0.0   \n",
       "1               0.30                             3.0             325.0   \n",
       "2               0.14                             1.0             268.0   \n",
       "3               0.03                             1.0             275.0   \n",
       "4               0.47                             1.0              38.0   \n",
       "\n",
       "   number_of_reviews_ltm  \n",
       "0                    0.0  \n",
       "1                    1.0  \n",
       "2                    3.0  \n",
       "3                    1.0  \n",
       "4                   23.0  "
      ]
     },
     "execution_count": 25,
     "metadata": {},
     "output_type": "execute_result"
    }
   ],
   "source": [
    "df.head()"
   ]
  },
  {
   "cell_type": "code",
   "execution_count": 26,
   "id": "f3d49673-784c-4d91-a354-da55de215fc0",
   "metadata": {},
   "outputs": [
    {
     "data": {
      "text/plain": [
       "array(['Brooklyn', 'Manhattan', 'Bronx', 'Queens', 'Staten Island', nan],\n",
       "      dtype=object)"
      ]
     },
     "execution_count": 26,
     "metadata": {},
     "output_type": "execute_result"
    }
   ],
   "source": [
    "df.neighbourhood_group.unique()"
   ]
  },
  {
   "cell_type": "code",
   "execution_count": 27,
   "id": "22686b98-5729-459c-8c09-9c660f5cbdb3",
   "metadata": {},
   "outputs": [
    {
     "data": {
      "text/plain": [
       "array(['Garon', 'Jennifer', 'Bianca', ..., 'Einab', 'Quick Stay',\n",
       "       'Sohaib'], dtype=object)"
      ]
     },
     "execution_count": 27,
     "metadata": {},
     "output_type": "execute_result"
    }
   ],
   "source": [
    "df.host_name.unique()"
   ]
  },
  {
   "cell_type": "code",
   "execution_count": 28,
   "id": "603a3392-0101-4bf9-86ee-b3312e0cc6eb",
   "metadata": {},
   "outputs": [
    {
     "name": "stdout",
     "output_type": "stream",
     "text": [
      "['Brooklyn' 'Manhattan' 'Bronx' 'Queens' 'Staten Island' nan]\n",
      "['Bedford-Stuyvesant' 'Midtown' 'Lower East Side' 'Sunset Park'\n",
      " 'Chinatown' 'Upper West Side' 'South Slope' 'Tribeca' 'Williamsburg'\n",
      " 'Chelsea' 'East Village' 'Greenwich Village' 'Clinton Hill' 'East Harlem'\n",
      " 'Harlem' 'Washington Heights' 'Upper East Side' 'Fort Greene'\n",
      " 'Greenpoint' 'Clason Point' 'Kips Bay' 'Eastchester' 'Flatbush'\n",
      " \"Hell's Kitchen\" 'Crown Heights' 'Carroll Gardens' 'West Village'\n",
      " 'Nolita' 'Park Slope' 'Long Island City' 'East Flatbush' 'Gowanus'\n",
      " 'Forest Hills' 'Murray Hill' 'Prospect Heights' 'Astoria' 'Boerum Hill'\n",
      " 'Sunnyside' 'Kingsbridge' 'St. George' 'Ridgewood' 'Mott Haven'\n",
      " 'Morningside Heights' 'Bushwick' 'Ditmars Steinway' 'Middle Village'\n",
      " 'Jamaica' 'Windsor Terrace' 'University Heights' 'Brooklyn Heights'\n",
      " 'Flatiron District' 'Rockaway Beach' 'Allerton' 'Emerson Hill'\n",
      " 'East New York' 'Theater District' 'Fort Hamilton' 'Bensonhurst'\n",
      " 'Rego Park' 'Wakefield' 'Kensington' 'Stuyvesant Town' 'Woodside'\n",
      " 'Shore Acres' 'Sheepshead Bay' 'Richmond Hill' 'Co-op City'\n",
      " 'Prospect-Lefferts Gardens' 'Little Italy' 'Maspeth' 'Gramercy' 'SoHo'\n",
      " 'Spuyten Duyvil' 'Briarwood' 'Elmhurst' 'Brighton Beach' 'Bayside'\n",
      " 'Inwood' 'Jackson Heights' 'Battery Park City' 'Tottenville'\n",
      " 'Two Bridges' 'Tompkinsville' 'NoHo' 'Cobble Hill' 'Gravesend'\n",
      " 'New Springville' 'Columbia St' 'Mariners Harbor' 'East Elmhurst'\n",
      " 'Concord' 'Flushing' 'Downtown Brooklyn' 'Melrose' 'College Point'\n",
      " 'DUMBO' 'City Island' 'Vinegar Hill' 'Bay Ridge' 'Red Hook' 'Glendale'\n",
      " 'Longwood' 'Financial District' 'Norwood' 'Concourse' 'Canarsie'\n",
      " 'Port Morris' 'Arverne' 'Williamsbridge' 'Soundview' 'Woodhaven'\n",
      " 'Parkchester' 'Bronxdale' 'Sea Gate' 'Ozone Park' 'Bay Terrace' 'Fordham'\n",
      " 'Flatlands' 'Clifton' 'Borough Park' 'Claremont Village'\n",
      " 'Concourse Village' 'Cypress Hills' 'Huguenot' 'Mount Hope' 'Midwood'\n",
      " 'Navy Yard' 'Civic Center' 'Brownsville' 'Fieldston' 'Unionport'\n",
      " 'Roosevelt Island' 'Lighthouse Hill' 'Kew Gardens Hills' 'Kew Gardens'\n",
      " 'Bellerose' 'Fresh Meadows' 'Morris Park' 'South Ozone Park'\n",
      " 'East Morrisania' 'Springfield Gardens' 'Tremont' 'Corona'\n",
      " 'West Brighton' 'Jamaica Estates' 'Manhattan Beach' 'Marble Hill'\n",
      " 'Belmont' 'Castleton Corners' 'Laurelton' 'Hunts Point' 'Randall Manor'\n",
      " 'Great Kills' 'Pelham Bay' 'Howard Beach' 'Silver Lake' 'Riverdale'\n",
      " 'Queens Village' 'Morrisania' 'Grymes Hill' 'Holliswood' 'Morris Heights'\n",
      " 'St. Albans' 'Edgemere' 'New Brighton' 'Pelham Gardens' 'Baychester'\n",
      " 'Cambria Heights' 'Bergen Beach' 'Stapleton' 'Richmondtown' 'Olinville'\n",
      " 'Dyker Heights' 'Coney Island' 'Rosedale' 'Howland Hook' 'Highbridge'\n",
      " 'South Beach' 'Bath Beach' 'Midland Beach' 'Oakwood' 'Arrochar' 'Hollis'\n",
      " 'Mill Basin' 'Edenwald' 'Whitestone' 'Throgs Neck' 'Mount Eden'\n",
      " 'Westchester Square' 'Fort Wadsworth' 'Van Nest' 'Woodlawn' 'Rosebank'\n",
      " 'New Dorp' 'Grant City' 'Port Richmond' 'Far Rockaway' 'Neponsit'\n",
      " 'Country Club' 'Bayswater' 'Willowbrook' 'Douglaston' 'New Dorp Beach'\n",
      " 'Schuylerville' 'West Farms' 'Little Neck' 'Arden Heights'\n",
      " 'Jamaica Hills' \"Prince's Bay\" 'Eltingville' 'Rossville'\n",
      " 'North Riverdale' \"Bull's Head\" 'Castle Hill' 'Belle Harbor'\n",
      " 'Westerleigh' 'Chelsea, Staten Island' 'Gerritsen Beach' 'Breezy Point'\n",
      " 'Todt Hill' 'Dongan Hills' 'Graniteville' 'Woodrow' 'Glen Oaks'\n",
      " 'Hollis Hills' 'Bay Terrace, Staten Island' 'Bloomfield' 'Charleston'\n",
      " 'Pleasant Plains' 'Port Ivory' nan]\n",
      "['Private room' 'Entire home/apt' 'Hotel room' 'Shared room' nan]\n",
      "['Garon' 'Jennifer' 'Bianca' ... 'Einab' 'Quick Stay' 'Sohaib']\n"
     ]
    }
   ],
   "source": [
    "cat_columns = ['neighbourhood_group','neighbourhood','room_type','host_name']\n",
    "\n",
    "for col in df[cat_columns]:\n",
    "    if df[col].dtype == 'object':\n",
    "        print(df[col].unique())\n",
    "    else:\n",
    "        print(\"Not object\")"
   ]
  },
  {
   "cell_type": "markdown",
   "id": "9b0e710c-9fc4-4b37-afd4-fbf6d30aae59",
   "metadata": {},
   "source": [
    "This code simply checks if specific columns in a dataset have text (like words or sentences) or not. If a column has text, it shows what unique text values are in that column. If not, it prints \"Not object\" to indicate it's not text."
   ]
  },
  {
   "cell_type": "markdown",
   "id": "fbcae97b-a02d-4de1-87b3-0a31154e3434",
   "metadata": {},
   "source": [
    "1 - Question: What is the distribution of room types in Amsterdam, and which one is the most common?"
   ]
  },
  {
   "cell_type": "code",
   "execution_count": 29,
   "id": "8c476d1a-180d-4260-be9a-ccdfee8a5903",
   "metadata": {},
   "outputs": [],
   "source": [
    "room_type_distribution = df['room_type'].value_counts()\n",
    "most_common_room_type = room_type_distribution.idxmax()"
   ]
  },
  {
   "cell_type": "code",
   "execution_count": 30,
   "id": "ce31cfa9-43f0-49a9-9202-257fe91d3c1a",
   "metadata": {},
   "outputs": [
    {
     "data": {
      "text/plain": [
       "room_type\n",
       "Entire home/apt    24649\n",
       "Private room       18186\n",
       "Shared room          580\n",
       "Hotel room           151\n",
       "Name: count, dtype: int64"
      ]
     },
     "execution_count": 30,
     "metadata": {},
     "output_type": "execute_result"
    }
   ],
   "source": [
    "room_type_distribution"
   ]
  },
  {
   "cell_type": "code",
   "execution_count": 31,
   "id": "630a12c3-ed5b-4771-a7b7-60332548a8be",
   "metadata": {},
   "outputs": [
    {
     "data": {
      "text/plain": [
       "'Entire home/apt'"
      ]
     },
     "execution_count": 31,
     "metadata": {},
     "output_type": "execute_result"
    }
   ],
   "source": [
    "most_common_room_type"
   ]
  },
  {
   "cell_type": "code",
   "execution_count": 32,
   "id": "6c288790-142d-4ac0-8f55-ccb4baaac411",
   "metadata": {},
   "outputs": [
    {
     "data": {
      "image/png": "[encoded data removed]",
      "text/plain": [
       "<Figure size 640x480 with 1 Axes>"
      ]
     },
     "metadata": {},
     "output_type": "display_data"
    }
   ],
   "source": [
    "room_type_distribution.plot(kind='bar')\n",
    "plt.title(\"Room Type Distribution in Amsterdam\")\n",
    "plt.xlabel(\"Room Type\")\n",
    "plt.ylabel(\"Count\")\n",
    "plt.show()"
   ]
  },
  {
   "cell_type": "markdown",
   "id": "bcd38c0e-6f48-4de7-a554-9daec6658cb5",
   "metadata": {},
   "source": [
    "room type distribution in Amsterdam by counting occurrences of each type, identifying the most common type"
   ]
  },
  {
   "cell_type": "markdown",
   "id": "55e734f9-5e75-4857-95a3-733002eec0ac",
   "metadata": {},
   "source": [
    "2 - Question: What is the average price of Airbnb listings in Amsterdam by room type?"
   ]
  },
  {
   "cell_type": "code",
   "execution_count": 36,
   "id": "1ca06096-443d-47ce-89d6-6dd03c4d61db",
   "metadata": {},
   "outputs": [],
   "source": [
    "average_price_by_room_type = df.groupby('room_type')['price'].mean()"
   ]
  },
  {
   "cell_type": "code",
   "execution_count": 37,
   "id": "87f96cc9-791f-419e-be69-b4be5282d2a1",
   "metadata": {},
   "outputs": [
    {
     "data": {
      "text/plain": [
       "room_type\n",
       "Entire home/apt    273.369062\n",
       "Hotel room         483.615894\n",
       "Private room       160.973166\n",
       "Shared room        125.874138\n",
       "Name: price, dtype: float64"
      ]
     },
     "execution_count": 37,
     "metadata": {},
     "output_type": "execute_result"
    }
   ],
   "source": [
    "average_price_by_room_type"
   ]
  },
  {
   "cell_type": "code",
   "execution_count": 42,
   "id": "bea8a475-8b94-4b74-9463-4935e034b33e",
   "metadata": {},
   "outputs": [
    {
     "data": {
      "image/png": "[encoded data removed]",
      "text/plain": [
       "<Figure size 640x480 with 1 Axes>"
      ]
     },
     "metadata": {},
     "output_type": "display_data"
    }
   ],
   "source": [
    "average_price_by_room_type.plot(kind='bar')\n",
    "plt.title(\"Average Price of Airbnb Listings in Amsterdam by Room Type\")\n",
    "plt.xlabel(\"Room Type\")\n",
    "plt.ylabel(\"Average Price\")\n",
    "plt.show()"
   ]
  },
  {
   "cell_type": "markdown",
   "id": "ea1dc056-795e-4322-ad7a-1e5ae29bccd9",
   "metadata": {},
   "source": [
    "This code segment answers the question about the average prices of Airbnb listings in Amsterdam, categorized by room type. It calculates and presents the average price for each type of room, allowing us to see how prices vary based on the type of accommodation"
   ]
  },
  {
   "cell_type": "markdown",
   "id": "b44bf892-94f6-47b5-866c-833f00644ff5",
   "metadata": {},
   "source": [
    "3 - How does the neighborhood group affect Airbnb prices?"
   ]
  },
  {
   "cell_type": "code",
   "execution_count": 44,
   "id": "18191826-549c-46dc-bdd0-99ac2db3b4f2",
   "metadata": {},
   "outputs": [
    {
     "data": {
      "image/png": "[encoded data removed]",
      "text/plain": [
       "<Figure size 1000x600 with 1 Axes>"
      ]
     },
     "metadata": {},
     "output_type": "display_data"
    }
   ],
   "source": [
    "plt.figure(figsize=(10, 6))\n",
    "sns.boxplot(x='neighbourhood_group', y='price', data=df)\n",
    "plt.title(\"Effect of Neighborhood Group on Airbnb Prices\")\n",
    "plt.xlabel(\"Neighborhood Group\")\n",
    "plt.ylabel(\"Price\")\n",
    "plt.xticks(rotation=45)  # Rotate x-axis labels for better readability\n",
    "plt.show()"
   ]
  },
  {
   "cell_type": "markdown",
   "id": "bc9cc4c1-5870-4a83-9c79-e3bb23764f35",
   "metadata": {},
   "source": [
    "The box plot visually displays the relationship between neighborhood groups and Airbnb prices. Each box represents a neighborhood group, and the height of the box shows the interquartile range of prices within that group. The line inside the box represents the median price, while the whiskers indicate the range of prices. By examining the box plot, you can see how prices vary across different neighborhood groups, helping to understand the impact of location on Airbnb prices."
   ]
  },
  {
   "cell_type": "code",
   "execution_count": null,
   "id": "5646d77b-961f-4836-b6ef-2147696d884c",
   "metadata": {},
   "outputs": [],
   "source": []
  }
 ],
 "metadata": {
  "kernelspec": {
   "display_name": "Python 3 (ipykernel)",
   "language": "python",
   "name": "python3"
  },
  "language_info": {
   "codemirror_mode": {
    "name": "ipython",
    "version": 3
   },
   "file_extension": ".py",
   "mimetype": "text/x-python",
   "name": "python",
   "nbconvert_exporter": "python",
   "pygments_lexer": "ipython3",
   "version": "3.8.10"
  }
 },
 "nbformat": 4,
 "nbformat_minor": 5
}
