{
 "cells": [
  {
   "cell_type": "code",
   "execution_count": 1,
   "id": "7f6dfb53-ac0b-41d5-8fd5-35f24f90e8b8",
   "metadata": {},
   "outputs": [],
   "source": [
    "import pandas as pd\n",
    "import numpy as np\n",
    "import matplotlib.pyplot as plt\n",
    "import plotly.express as px\n",
    "import seaborn as sns\n",
    "from scipy import stats\n",
    "import statsmodels.api as sm"
   ]
  },
  {
   "cell_type": "code",
   "execution_count": 2,
   "id": "df6f56c6-b250-46c3-993f-97b6c1a9dc21",
   "metadata": {},
   "outputs": [
    {
     "data": {
      "text/html": [
       "<div>\n",
       "<style scoped>\n",
       "    .dataframe tbody tr th:only-of-type {\n",
       "        vertical-align: middle;\n",
       "    }\n",
       "\n",
       "    .dataframe tbody tr th {\n",
       "        vertical-align: top;\n",
       "    }\n",
       "\n",
       "    .dataframe thead th {\n",
       "        text-align: right;\n",
       "    }\n",
       "</style>\n",
       "<table border=\"1\" class=\"dataframe\">\n",
       "  <thead>\n",
       "    <tr style=\"text-align: right;\">\n",
       "      <th></th>\n",
       "      <th>id</th>\n",
       "      <th>name</th>\n",
       "      <th>host_id</th>\n",
       "      <th>host_name</th>\n",
       "      <th>neighbourhood_group</th>\n",
       "      <th>neighbourhood</th>\n",
       "      <th>latitude</th>\n",
       "      <th>longitude</th>\n",
       "      <th>room_type</th>\n",
       "      <th>price</th>\n",
       "      <th>minimum_nights</th>\n",
       "      <th>number_of_reviews</th>\n",
       "      <th>last_review</th>\n",
       "      <th>reviews_per_month</th>\n",
       "      <th>calculated_host_listings_count</th>\n",
       "      <th>availability_365</th>\n",
       "      <th>number_of_reviews_ltm</th>\n",
       "      <th>license</th>\n",
       "    </tr>\n",
       "  </thead>\n",
       "  <tbody>\n",
       "    <tr>\n",
       "      <th>0</th>\n",
       "      <td>5121</td>\n",
       "      <td>Rental unit in Brooklyn · ★4.52 · 1 bedroom · ...</td>\n",
       "      <td>7356</td>\n",
       "      <td>Garon</td>\n",
       "      <td>Brooklyn</td>\n",
       "      <td>Bedford-Stuyvesant</td>\n",
       "      <td>40.68535</td>\n",
       "      <td>-73.95512</td>\n",
       "      <td>Private room</td>\n",
       "      <td>60</td>\n",
       "      <td>30</td>\n",
       "      <td>50</td>\n",
       "      <td>2019-12-02</td>\n",
       "      <td>0.29</td>\n",
       "      <td>2</td>\n",
       "      <td>0</td>\n",
       "      <td>0</td>\n",
       "      <td>NaN</td>\n",
       "    </tr>\n",
       "    <tr>\n",
       "      <th>1</th>\n",
       "      <td>2595</td>\n",
       "      <td>Rental unit in New York · ★4.68 · Studio · 1 b...</td>\n",
       "      <td>2845</td>\n",
       "      <td>Jennifer</td>\n",
       "      <td>Manhattan</td>\n",
       "      <td>Midtown</td>\n",
       "      <td>40.75356</td>\n",
       "      <td>-73.98559</td>\n",
       "      <td>Entire home/apt</td>\n",
       "      <td>240</td>\n",
       "      <td>30</td>\n",
       "      <td>49</td>\n",
       "      <td>2022-06-21</td>\n",
       "      <td>0.30</td>\n",
       "      <td>3</td>\n",
       "      <td>325</td>\n",
       "      <td>1</td>\n",
       "      <td>NaN</td>\n",
       "    </tr>\n",
       "    <tr>\n",
       "      <th>2</th>\n",
       "      <td>14991</td>\n",
       "      <td>Rental unit in New York · ★4.93 · 1 bedroom · ...</td>\n",
       "      <td>59023</td>\n",
       "      <td>Bianca</td>\n",
       "      <td>Manhattan</td>\n",
       "      <td>Lower East Side</td>\n",
       "      <td>40.72207</td>\n",
       "      <td>-73.98976</td>\n",
       "      <td>Private room</td>\n",
       "      <td>120</td>\n",
       "      <td>5</td>\n",
       "      <td>22</td>\n",
       "      <td>2023-05-14</td>\n",
       "      <td>0.14</td>\n",
       "      <td>1</td>\n",
       "      <td>268</td>\n",
       "      <td>3</td>\n",
       "      <td>NaN</td>\n",
       "    </tr>\n",
       "    <tr>\n",
       "      <th>3</th>\n",
       "      <td>5136</td>\n",
       "      <td>Rental unit in Brooklyn · ★5.0 · 2 bedrooms · ...</td>\n",
       "      <td>7378</td>\n",
       "      <td>Rebecca</td>\n",
       "      <td>Brooklyn</td>\n",
       "      <td>Sunset Park</td>\n",
       "      <td>40.66265</td>\n",
       "      <td>-73.99454</td>\n",
       "      <td>Entire home/apt</td>\n",
       "      <td>276</td>\n",
       "      <td>21</td>\n",
       "      <td>3</td>\n",
       "      <td>2022-08-10</td>\n",
       "      <td>0.03</td>\n",
       "      <td>1</td>\n",
       "      <td>275</td>\n",
       "      <td>1</td>\n",
       "      <td>NaN</td>\n",
       "    </tr>\n",
       "    <tr>\n",
       "      <th>4</th>\n",
       "      <td>59709</td>\n",
       "      <td>Rental unit in New York · ★4.77 · 2 bedrooms ·...</td>\n",
       "      <td>186084</td>\n",
       "      <td>Ricardo &amp; Ashlie</td>\n",
       "      <td>Manhattan</td>\n",
       "      <td>Chinatown</td>\n",
       "      <td>40.71780</td>\n",
       "      <td>-73.99320</td>\n",
       "      <td>Entire home/apt</td>\n",
       "      <td>325</td>\n",
       "      <td>7</td>\n",
       "      <td>69</td>\n",
       "      <td>2023-04-28</td>\n",
       "      <td>0.47</td>\n",
       "      <td>1</td>\n",
       "      <td>38</td>\n",
       "      <td>23</td>\n",
       "      <td>NaN</td>\n",
       "    </tr>\n",
       "  </tbody>\n",
       "</table>\n",
       "</div>"
      ],
      "text/plain": [
       "      id                                               name  host_id  \\\n",
       "0   5121  Rental unit in Brooklyn · ★4.52 · 1 bedroom · ...     7356   \n",
       "1   2595  Rental unit in New York · ★4.68 · Studio · 1 b...     2845   \n",
       "2  14991  Rental unit in New York · ★4.93 · 1 bedroom · ...    59023   \n",
       "3   5136  Rental unit in Brooklyn · ★5.0 · 2 bedrooms · ...     7378   \n",
       "4  59709  Rental unit in New York · ★4.77 · 2 bedrooms ·...   186084   \n",
       "\n",
       "          host_name neighbourhood_group       neighbourhood  latitude  \\\n",
       "0             Garon            Brooklyn  Bedford-Stuyvesant  40.68535   \n",
       "1          Jennifer           Manhattan             Midtown  40.75356   \n",
       "2            Bianca           Manhattan     Lower East Side  40.72207   \n",
       "3           Rebecca            Brooklyn         Sunset Park  40.66265   \n",
       "4  Ricardo & Ashlie           Manhattan           Chinatown  40.71780   \n",
       "\n",
       "   longitude        room_type  price  minimum_nights  number_of_reviews  \\\n",
       "0  -73.95512     Private room     60              30                 50   \n",
       "1  -73.98559  Entire home/apt    240              30                 49   \n",
       "2  -73.98976     Private room    120               5                 22   \n",
       "3  -73.99454  Entire home/apt    276              21                  3   \n",
       "4  -73.99320  Entire home/apt    325               7                 69   \n",
       "\n",
       "  last_review  reviews_per_month  calculated_host_listings_count  \\\n",
       "0  2019-12-02               0.29                               2   \n",
       "1  2022-06-21               0.30                               3   \n",
       "2  2023-05-14               0.14                               1   \n",
       "3  2022-08-10               0.03                               1   \n",
       "4  2023-04-28               0.47                               1   \n",
       "\n",
       "   availability_365  number_of_reviews_ltm  license  \n",
       "0                 0                      0      NaN  \n",
       "1               325                      1      NaN  \n",
       "2               268                      3      NaN  \n",
       "3               275                      1      NaN  \n",
       "4                38                     23      NaN  "
      ]
     },
     "execution_count": 2,
     "metadata": {},
     "output_type": "execute_result"
    }
   ],
   "source": [
    "listing_data = pd.read_csv(\"listings.csv\")\n",
    "listing_data.head()"
   ]
  },
  {
   "cell_type": "code",
   "execution_count": 14,
   "id": "825f1f9f-aa13-435e-b952-a98a2d07ed58",
   "metadata": {},
   "outputs": [
    {
     "data": {
      "text/plain": [
       "(43566, 18)"
      ]
     },
     "execution_count": 14,
     "metadata": {},
     "output_type": "execute_result"
    }
   ],
   "source": [
    "listing_data.shape"
   ]
  },
  {
   "cell_type": "code",
   "execution_count": 3,
   "id": "df12e06d-5a17-427b-b114-8e6a7fa3d506",
   "metadata": {},
   "outputs": [
    {
     "data": {
      "text/html": [
       "<div>\n",
       "<style scoped>\n",
       "    .dataframe tbody tr th:only-of-type {\n",
       "        vertical-align: middle;\n",
       "    }\n",
       "\n",
       "    .dataframe tbody tr th {\n",
       "        vertical-align: top;\n",
       "    }\n",
       "\n",
       "    .dataframe thead th {\n",
       "        text-align: right;\n",
       "    }\n",
       "</style>\n",
       "<table border=\"1\" class=\"dataframe\">\n",
       "  <thead>\n",
       "    <tr style=\"text-align: right;\">\n",
       "      <th></th>\n",
       "      <th>neighbourhood_group</th>\n",
       "      <th>neighbourhood</th>\n",
       "    </tr>\n",
       "  </thead>\n",
       "  <tbody>\n",
       "    <tr>\n",
       "      <th>0</th>\n",
       "      <td>Bronx</td>\n",
       "      <td>Allerton</td>\n",
       "    </tr>\n",
       "    <tr>\n",
       "      <th>1</th>\n",
       "      <td>Bronx</td>\n",
       "      <td>Baychester</td>\n",
       "    </tr>\n",
       "    <tr>\n",
       "      <th>2</th>\n",
       "      <td>Bronx</td>\n",
       "      <td>Belmont</td>\n",
       "    </tr>\n",
       "    <tr>\n",
       "      <th>3</th>\n",
       "      <td>Bronx</td>\n",
       "      <td>Bronxdale</td>\n",
       "    </tr>\n",
       "    <tr>\n",
       "      <th>4</th>\n",
       "      <td>Bronx</td>\n",
       "      <td>Castle Hill</td>\n",
       "    </tr>\n",
       "  </tbody>\n",
       "</table>\n",
       "</div>"
      ],
      "text/plain": [
       "  neighbourhood_group neighbourhood\n",
       "0               Bronx      Allerton\n",
       "1               Bronx    Baychester\n",
       "2               Bronx       Belmont\n",
       "3               Bronx     Bronxdale\n",
       "4               Bronx   Castle Hill"
      ]
     },
     "execution_count": 3,
     "metadata": {},
     "output_type": "execute_result"
    }
   ],
   "source": [
    "neighbourhoods_data = pd.read_csv(\"neighbourhoods.csv\")\n",
    "neighbourhoods_data.head()"
   ]
  },
  {
   "cell_type": "code",
   "execution_count": 9,
   "id": "d4905f07-9aec-4429-b81b-0f308e15e226",
   "metadata": {},
   "outputs": [
    {
     "data": {
      "text/plain": [
       "(44, 2)"
      ]
     },
     "execution_count": 9,
     "metadata": {},
     "output_type": "execute_result"
    }
   ],
   "source": [
    "neighbourhoods_data.shape"
   ]
  },
  {
   "cell_type": "code",
   "execution_count": 4,
   "id": "5a647a0d-1288-42da-8bb7-64dc8627e08e",
   "metadata": {},
   "outputs": [
    {
     "data": {
      "text/html": [
       "<div>\n",
       "<style scoped>\n",
       "    .dataframe tbody tr th:only-of-type {\n",
       "        vertical-align: middle;\n",
       "    }\n",
       "\n",
       "    .dataframe tbody tr th {\n",
       "        vertical-align: top;\n",
       "    }\n",
       "\n",
       "    .dataframe thead th {\n",
       "        text-align: right;\n",
       "    }\n",
       "</style>\n",
       "<table border=\"1\" class=\"dataframe\">\n",
       "  <thead>\n",
       "    <tr style=\"text-align: right;\">\n",
       "      <th></th>\n",
       "      <th>id</th>\n",
       "      <th>name</th>\n",
       "      <th>host_id</th>\n",
       "      <th>host_name</th>\n",
       "      <th>neighbourhood_group</th>\n",
       "      <th>neighbourhood</th>\n",
       "      <th>latitude</th>\n",
       "      <th>longitude</th>\n",
       "      <th>room_type</th>\n",
       "      <th>price</th>\n",
       "      <th>minimum_nights</th>\n",
       "      <th>number_of_reviews</th>\n",
       "      <th>last_review</th>\n",
       "      <th>reviews_per_month</th>\n",
       "      <th>calculated_host_listings_count</th>\n",
       "      <th>availability_365</th>\n",
       "      <th>number_of_reviews_ltm</th>\n",
       "      <th>license</th>\n",
       "    </tr>\n",
       "  </thead>\n",
       "  <tbody>\n",
       "    <tr>\n",
       "      <th>0</th>\n",
       "      <td>5121.0</td>\n",
       "      <td>Rental unit in Brooklyn · ★4.52 · 1 bedroom · ...</td>\n",
       "      <td>7356.0</td>\n",
       "      <td>Garon</td>\n",
       "      <td>Brooklyn</td>\n",
       "      <td>Bedford-Stuyvesant</td>\n",
       "      <td>40.68535</td>\n",
       "      <td>-73.95512</td>\n",
       "      <td>Private room</td>\n",
       "      <td>60.0</td>\n",
       "      <td>30.0</td>\n",
       "      <td>50.0</td>\n",
       "      <td>2019-12-02</td>\n",
       "      <td>0.29</td>\n",
       "      <td>2.0</td>\n",
       "      <td>0.0</td>\n",
       "      <td>0.0</td>\n",
       "      <td>NaN</td>\n",
       "    </tr>\n",
       "    <tr>\n",
       "      <th>1</th>\n",
       "      <td>2595.0</td>\n",
       "      <td>Rental unit in New York · ★4.68 · Studio · 1 b...</td>\n",
       "      <td>2845.0</td>\n",
       "      <td>Jennifer</td>\n",
       "      <td>Manhattan</td>\n",
       "      <td>Midtown</td>\n",
       "      <td>40.75356</td>\n",
       "      <td>-73.98559</td>\n",
       "      <td>Entire home/apt</td>\n",
       "      <td>240.0</td>\n",
       "      <td>30.0</td>\n",
       "      <td>49.0</td>\n",
       "      <td>2022-06-21</td>\n",
       "      <td>0.30</td>\n",
       "      <td>3.0</td>\n",
       "      <td>325.0</td>\n",
       "      <td>1.0</td>\n",
       "      <td>NaN</td>\n",
       "    </tr>\n",
       "    <tr>\n",
       "      <th>2</th>\n",
       "      <td>14991.0</td>\n",
       "      <td>Rental unit in New York · ★4.93 · 1 bedroom · ...</td>\n",
       "      <td>59023.0</td>\n",
       "      <td>Bianca</td>\n",
       "      <td>Manhattan</td>\n",
       "      <td>Lower East Side</td>\n",
       "      <td>40.72207</td>\n",
       "      <td>-73.98976</td>\n",
       "      <td>Private room</td>\n",
       "      <td>120.0</td>\n",
       "      <td>5.0</td>\n",
       "      <td>22.0</td>\n",
       "      <td>2023-05-14</td>\n",
       "      <td>0.14</td>\n",
       "      <td>1.0</td>\n",
       "      <td>268.0</td>\n",
       "      <td>3.0</td>\n",
       "      <td>NaN</td>\n",
       "    </tr>\n",
       "    <tr>\n",
       "      <th>3</th>\n",
       "      <td>5136.0</td>\n",
       "      <td>Rental unit in Brooklyn · ★5.0 · 2 bedrooms · ...</td>\n",
       "      <td>7378.0</td>\n",
       "      <td>Rebecca</td>\n",
       "      <td>Brooklyn</td>\n",
       "      <td>Sunset Park</td>\n",
       "      <td>40.66265</td>\n",
       "      <td>-73.99454</td>\n",
       "      <td>Entire home/apt</td>\n",
       "      <td>276.0</td>\n",
       "      <td>21.0</td>\n",
       "      <td>3.0</td>\n",
       "      <td>2022-08-10</td>\n",
       "      <td>0.03</td>\n",
       "      <td>1.0</td>\n",
       "      <td>275.0</td>\n",
       "      <td>1.0</td>\n",
       "      <td>NaN</td>\n",
       "    </tr>\n",
       "    <tr>\n",
       "      <th>4</th>\n",
       "      <td>59709.0</td>\n",
       "      <td>Rental unit in New York · ★4.77 · 2 bedrooms ·...</td>\n",
       "      <td>186084.0</td>\n",
       "      <td>Ricardo &amp; Ashlie</td>\n",
       "      <td>Manhattan</td>\n",
       "      <td>Chinatown</td>\n",
       "      <td>40.71780</td>\n",
       "      <td>-73.99320</td>\n",
       "      <td>Entire home/apt</td>\n",
       "      <td>325.0</td>\n",
       "      <td>7.0</td>\n",
       "      <td>69.0</td>\n",
       "      <td>2023-04-28</td>\n",
       "      <td>0.47</td>\n",
       "      <td>1.0</td>\n",
       "      <td>38.0</td>\n",
       "      <td>23.0</td>\n",
       "      <td>NaN</td>\n",
       "    </tr>\n",
       "  </tbody>\n",
       "</table>\n",
       "</div>"
      ],
      "text/plain": [
       "        id                                               name   host_id  \\\n",
       "0   5121.0  Rental unit in Brooklyn · ★4.52 · 1 bedroom · ...    7356.0   \n",
       "1   2595.0  Rental unit in New York · ★4.68 · Studio · 1 b...    2845.0   \n",
       "2  14991.0  Rental unit in New York · ★4.93 · 1 bedroom · ...   59023.0   \n",
       "3   5136.0  Rental unit in Brooklyn · ★5.0 · 2 bedrooms · ...    7378.0   \n",
       "4  59709.0  Rental unit in New York · ★4.77 · 2 bedrooms ·...  186084.0   \n",
       "\n",
       "          host_name neighbourhood_group       neighbourhood  latitude  \\\n",
       "0             Garon            Brooklyn  Bedford-Stuyvesant  40.68535   \n",
       "1          Jennifer           Manhattan             Midtown  40.75356   \n",
       "2            Bianca           Manhattan     Lower East Side  40.72207   \n",
       "3           Rebecca            Brooklyn         Sunset Park  40.66265   \n",
       "4  Ricardo & Ashlie           Manhattan           Chinatown  40.71780   \n",
       "\n",
       "   longitude        room_type  price  minimum_nights  number_of_reviews  \\\n",
       "0  -73.95512     Private room   60.0            30.0               50.0   \n",
       "1  -73.98559  Entire home/apt  240.0            30.0               49.0   \n",
       "2  -73.98976     Private room  120.0             5.0               22.0   \n",
       "3  -73.99454  Entire home/apt  276.0            21.0                3.0   \n",
       "4  -73.99320  Entire home/apt  325.0             7.0               69.0   \n",
       "\n",
       "  last_review  reviews_per_month  calculated_host_listings_count  \\\n",
       "0  2019-12-02               0.29                             2.0   \n",
       "1  2022-06-21               0.30                             3.0   \n",
       "2  2023-05-14               0.14                             1.0   \n",
       "3  2022-08-10               0.03                             1.0   \n",
       "4  2023-04-28               0.47                             1.0   \n",
       "\n",
       "   availability_365  number_of_reviews_ltm  license  \n",
       "0               0.0                    0.0      NaN  \n",
       "1             325.0                    1.0      NaN  \n",
       "2             268.0                    3.0      NaN  \n",
       "3             275.0                    1.0      NaN  \n",
       "4              38.0                   23.0      NaN  "
      ]
     },
     "execution_count": 4,
     "metadata": {},
     "output_type": "execute_result"
    }
   ],
   "source": [
    "data_conect = pd.concat([listing_data, neighbourhoods_data])\n",
    "data_conect.head()"
   ]
  },
  {
   "cell_type": "code",
   "execution_count": 17,
   "id": "6e6542a0-dc21-4cfb-9457-81e92b34773f",
   "metadata": {},
   "outputs": [
    {
     "data": {
      "text/plain": [
       "(43796, 18)"
      ]
     },
     "execution_count": 17,
     "metadata": {},
     "output_type": "execute_result"
    }
   ],
   "source": [
    "data_conect.shape"
   ]
  },
  {
   "cell_type": "code",
   "execution_count": 5,
   "id": "cee2f343-52a7-4765-83c3-3e840d99ec0b",
   "metadata": {},
   "outputs": [
    {
     "data": {
      "text/html": [
       "<div>\n",
       "<style scoped>\n",
       "    .dataframe tbody tr th:only-of-type {\n",
       "        vertical-align: middle;\n",
       "    }\n",
       "\n",
       "    .dataframe tbody tr th {\n",
       "        vertical-align: top;\n",
       "    }\n",
       "\n",
       "    .dataframe thead th {\n",
       "        text-align: right;\n",
       "    }\n",
       "</style>\n",
       "<table border=\"1\" class=\"dataframe\">\n",
       "  <thead>\n",
       "    <tr style=\"text-align: right;\">\n",
       "      <th></th>\n",
       "      <th>listing_id</th>\n",
       "      <th>date</th>\n",
       "    </tr>\n",
       "  </thead>\n",
       "  <tbody>\n",
       "    <tr>\n",
       "      <th>0</th>\n",
       "      <td>5456</td>\n",
       "      <td>2009-03-08</td>\n",
       "    </tr>\n",
       "    <tr>\n",
       "      <th>1</th>\n",
       "      <td>5456</td>\n",
       "      <td>2009-03-19</td>\n",
       "    </tr>\n",
       "    <tr>\n",
       "      <th>2</th>\n",
       "      <td>5456</td>\n",
       "      <td>2009-03-22</td>\n",
       "    </tr>\n",
       "    <tr>\n",
       "      <th>3</th>\n",
       "      <td>5456</td>\n",
       "      <td>2009-04-08</td>\n",
       "    </tr>\n",
       "    <tr>\n",
       "      <th>4</th>\n",
       "      <td>5456</td>\n",
       "      <td>2009-04-13</td>\n",
       "    </tr>\n",
       "  </tbody>\n",
       "</table>\n",
       "</div>"
      ],
      "text/plain": [
       "   listing_id        date\n",
       "0        5456  2009-03-08\n",
       "1        5456  2009-03-19\n",
       "2        5456  2009-03-22\n",
       "3        5456  2009-04-08\n",
       "4        5456  2009-04-13"
      ]
     },
     "execution_count": 5,
     "metadata": {},
     "output_type": "execute_result"
    }
   ],
   "source": [
    "reviw_data = pd.read_csv(\"reviews.csv\")\n",
    "reviw_data.head()"
   ]
  },
  {
   "cell_type": "code",
   "execution_count": 19,
   "id": "6298d6b6-3d10-4862-b36a-b343769093b7",
   "metadata": {},
   "outputs": [
    {
     "data": {
      "text/plain": [
       "(1148772, 2)"
      ]
     },
     "execution_count": 19,
     "metadata": {},
     "output_type": "execute_result"
    }
   ],
   "source": [
    "reviw_data.shape"
   ]
  },
  {
   "cell_type": "code",
   "execution_count": 6,
   "id": "6adeb0c6-3f96-4d8a-ad8e-0800f1b2b3ad",
   "metadata": {},
   "outputs": [],
   "source": [
    "reviw_data['last_review'] = reviw_data['date'] # قم بتغيير عمود التاريخ ليكون آخر مراجعة لربط الملفين"
   ]
  },
  {
   "cell_type": "code",
   "execution_count": 7,
   "id": "301a192e-5998-444c-b566-75164050bd54",
   "metadata": {},
   "outputs": [
    {
     "data": {
      "text/html": [
       "<div>\n",
       "<style scoped>\n",
       "    .dataframe tbody tr th:only-of-type {\n",
       "        vertical-align: middle;\n",
       "    }\n",
       "\n",
       "    .dataframe tbody tr th {\n",
       "        vertical-align: top;\n",
       "    }\n",
       "\n",
       "    .dataframe thead th {\n",
       "        text-align: right;\n",
       "    }\n",
       "</style>\n",
       "<table border=\"1\" class=\"dataframe\">\n",
       "  <thead>\n",
       "    <tr style=\"text-align: right;\">\n",
       "      <th></th>\n",
       "      <th>listing_id</th>\n",
       "      <th>last_review</th>\n",
       "    </tr>\n",
       "  </thead>\n",
       "  <tbody>\n",
       "    <tr>\n",
       "      <th>0</th>\n",
       "      <td>5456</td>\n",
       "      <td>2009-03-08</td>\n",
       "    </tr>\n",
       "    <tr>\n",
       "      <th>1</th>\n",
       "      <td>5456</td>\n",
       "      <td>2009-03-19</td>\n",
       "    </tr>\n",
       "    <tr>\n",
       "      <th>2</th>\n",
       "      <td>5456</td>\n",
       "      <td>2009-03-22</td>\n",
       "    </tr>\n",
       "    <tr>\n",
       "      <th>3</th>\n",
       "      <td>5456</td>\n",
       "      <td>2009-04-08</td>\n",
       "    </tr>\n",
       "    <tr>\n",
       "      <th>4</th>\n",
       "      <td>5456</td>\n",
       "      <td>2009-04-13</td>\n",
       "    </tr>\n",
       "  </tbody>\n",
       "</table>\n",
       "</div>"
      ],
      "text/plain": [
       "   listing_id last_review\n",
       "0        5456  2009-03-08\n",
       "1        5456  2009-03-19\n",
       "2        5456  2009-03-22\n",
       "3        5456  2009-04-08\n",
       "4        5456  2009-04-13"
      ]
     },
     "execution_count": 7,
     "metadata": {},
     "output_type": "execute_result"
    }
   ],
   "source": [
    "reviw_data.drop(['date'],axis = 1,inplace =True)\n",
    "reviw_data.head()"
   ]
  },
  {
   "cell_type": "code",
   "execution_count": 8,
   "id": "5cbdb36e-813c-4b12-a007-ac0f760dac00",
   "metadata": {},
   "outputs": [
    {
     "data": {
      "text/html": [
       "<div>\n",
       "<style scoped>\n",
       "    .dataframe tbody tr th:only-of-type {\n",
       "        vertical-align: middle;\n",
       "    }\n",
       "\n",
       "    .dataframe tbody tr th {\n",
       "        vertical-align: top;\n",
       "    }\n",
       "\n",
       "    .dataframe thead th {\n",
       "        text-align: right;\n",
       "    }\n",
       "</style>\n",
       "<table border=\"1\" class=\"dataframe\">\n",
       "  <thead>\n",
       "    <tr style=\"text-align: right;\">\n",
       "      <th></th>\n",
       "      <th>id</th>\n",
       "      <th>name</th>\n",
       "      <th>host_id</th>\n",
       "      <th>host_name</th>\n",
       "      <th>neighbourhood_group</th>\n",
       "      <th>neighbourhood</th>\n",
       "      <th>latitude</th>\n",
       "      <th>longitude</th>\n",
       "      <th>room_type</th>\n",
       "      <th>price</th>\n",
       "      <th>minimum_nights</th>\n",
       "      <th>number_of_reviews</th>\n",
       "      <th>last_review</th>\n",
       "      <th>reviews_per_month</th>\n",
       "      <th>calculated_host_listings_count</th>\n",
       "      <th>availability_365</th>\n",
       "      <th>number_of_reviews_ltm</th>\n",
       "      <th>license</th>\n",
       "      <th>listing_id</th>\n",
       "    </tr>\n",
       "  </thead>\n",
       "  <tbody>\n",
       "    <tr>\n",
       "      <th>0</th>\n",
       "      <td>5121.0</td>\n",
       "      <td>Rental unit in Brooklyn · ★4.52 · 1 bedroom · ...</td>\n",
       "      <td>7356.0</td>\n",
       "      <td>Garon</td>\n",
       "      <td>Brooklyn</td>\n",
       "      <td>Bedford-Stuyvesant</td>\n",
       "      <td>40.68535</td>\n",
       "      <td>-73.95512</td>\n",
       "      <td>Private room</td>\n",
       "      <td>60.0</td>\n",
       "      <td>30.0</td>\n",
       "      <td>50.0</td>\n",
       "      <td>2019-12-02</td>\n",
       "      <td>0.29</td>\n",
       "      <td>2.0</td>\n",
       "      <td>0.0</td>\n",
       "      <td>0.0</td>\n",
       "      <td>NaN</td>\n",
       "      <td>NaN</td>\n",
       "    </tr>\n",
       "    <tr>\n",
       "      <th>1</th>\n",
       "      <td>2595.0</td>\n",
       "      <td>Rental unit in New York · ★4.68 · Studio · 1 b...</td>\n",
       "      <td>2845.0</td>\n",
       "      <td>Jennifer</td>\n",
       "      <td>Manhattan</td>\n",
       "      <td>Midtown</td>\n",
       "      <td>40.75356</td>\n",
       "      <td>-73.98559</td>\n",
       "      <td>Entire home/apt</td>\n",
       "      <td>240.0</td>\n",
       "      <td>30.0</td>\n",
       "      <td>49.0</td>\n",
       "      <td>2022-06-21</td>\n",
       "      <td>0.30</td>\n",
       "      <td>3.0</td>\n",
       "      <td>325.0</td>\n",
       "      <td>1.0</td>\n",
       "      <td>NaN</td>\n",
       "      <td>NaN</td>\n",
       "    </tr>\n",
       "    <tr>\n",
       "      <th>2</th>\n",
       "      <td>14991.0</td>\n",
       "      <td>Rental unit in New York · ★4.93 · 1 bedroom · ...</td>\n",
       "      <td>59023.0</td>\n",
       "      <td>Bianca</td>\n",
       "      <td>Manhattan</td>\n",
       "      <td>Lower East Side</td>\n",
       "      <td>40.72207</td>\n",
       "      <td>-73.98976</td>\n",
       "      <td>Private room</td>\n",
       "      <td>120.0</td>\n",
       "      <td>5.0</td>\n",
       "      <td>22.0</td>\n",
       "      <td>2023-05-14</td>\n",
       "      <td>0.14</td>\n",
       "      <td>1.0</td>\n",
       "      <td>268.0</td>\n",
       "      <td>3.0</td>\n",
       "      <td>NaN</td>\n",
       "      <td>NaN</td>\n",
       "    </tr>\n",
       "    <tr>\n",
       "      <th>3</th>\n",
       "      <td>5136.0</td>\n",
       "      <td>Rental unit in Brooklyn · ★5.0 · 2 bedrooms · ...</td>\n",
       "      <td>7378.0</td>\n",
       "      <td>Rebecca</td>\n",
       "      <td>Brooklyn</td>\n",
       "      <td>Sunset Park</td>\n",
       "      <td>40.66265</td>\n",
       "      <td>-73.99454</td>\n",
       "      <td>Entire home/apt</td>\n",
       "      <td>276.0</td>\n",
       "      <td>21.0</td>\n",
       "      <td>3.0</td>\n",
       "      <td>2022-08-10</td>\n",
       "      <td>0.03</td>\n",
       "      <td>1.0</td>\n",
       "      <td>275.0</td>\n",
       "      <td>1.0</td>\n",
       "      <td>NaN</td>\n",
       "      <td>NaN</td>\n",
       "    </tr>\n",
       "    <tr>\n",
       "      <th>4</th>\n",
       "      <td>59709.0</td>\n",
       "      <td>Rental unit in New York · ★4.77 · 2 bedrooms ·...</td>\n",
       "      <td>186084.0</td>\n",
       "      <td>Ricardo &amp; Ashlie</td>\n",
       "      <td>Manhattan</td>\n",
       "      <td>Chinatown</td>\n",
       "      <td>40.71780</td>\n",
       "      <td>-73.99320</td>\n",
       "      <td>Entire home/apt</td>\n",
       "      <td>325.0</td>\n",
       "      <td>7.0</td>\n",
       "      <td>69.0</td>\n",
       "      <td>2023-04-28</td>\n",
       "      <td>0.47</td>\n",
       "      <td>1.0</td>\n",
       "      <td>38.0</td>\n",
       "      <td>23.0</td>\n",
       "      <td>NaN</td>\n",
       "      <td>NaN</td>\n",
       "    </tr>\n",
       "  </tbody>\n",
       "</table>\n",
       "</div>"
      ],
      "text/plain": [
       "        id                                               name   host_id  \\\n",
       "0   5121.0  Rental unit in Brooklyn · ★4.52 · 1 bedroom · ...    7356.0   \n",
       "1   2595.0  Rental unit in New York · ★4.68 · Studio · 1 b...    2845.0   \n",
       "2  14991.0  Rental unit in New York · ★4.93 · 1 bedroom · ...   59023.0   \n",
       "3   5136.0  Rental unit in Brooklyn · ★5.0 · 2 bedrooms · ...    7378.0   \n",
       "4  59709.0  Rental unit in New York · ★4.77 · 2 bedrooms ·...  186084.0   \n",
       "\n",
       "          host_name neighbourhood_group       neighbourhood  latitude  \\\n",
       "0             Garon            Brooklyn  Bedford-Stuyvesant  40.68535   \n",
       "1          Jennifer           Manhattan             Midtown  40.75356   \n",
       "2            Bianca           Manhattan     Lower East Side  40.72207   \n",
       "3           Rebecca            Brooklyn         Sunset Park  40.66265   \n",
       "4  Ricardo & Ashlie           Manhattan           Chinatown  40.71780   \n",
       "\n",
       "   longitude        room_type  price  minimum_nights  number_of_reviews  \\\n",
       "0  -73.95512     Private room   60.0            30.0               50.0   \n",
       "1  -73.98559  Entire home/apt  240.0            30.0               49.0   \n",
       "2  -73.98976     Private room  120.0             5.0               22.0   \n",
       "3  -73.99454  Entire home/apt  276.0            21.0                3.0   \n",
       "4  -73.99320  Entire home/apt  325.0             7.0               69.0   \n",
       "\n",
       "  last_review  reviews_per_month  calculated_host_listings_count  \\\n",
       "0  2019-12-02               0.29                             2.0   \n",
       "1  2022-06-21               0.30                             3.0   \n",
       "2  2023-05-14               0.14                             1.0   \n",
       "3  2022-08-10               0.03                             1.0   \n",
       "4  2023-04-28               0.47                             1.0   \n",
       "\n",
       "   availability_365  number_of_reviews_ltm  license  listing_id  \n",
       "0               0.0                    0.0      NaN         NaN  \n",
       "1             325.0                    1.0      NaN         NaN  \n",
       "2             268.0                    3.0      NaN         NaN  \n",
       "3             275.0                    1.0      NaN         NaN  \n",
       "4              38.0                   23.0      NaN         NaN  "
      ]
     },
     "execution_count": 8,
     "metadata": {},
     "output_type": "execute_result"
    }
   ],
   "source": [
    "data = pd.concat([data_conect, reviw_data])\n",
    "data.head()"
   ]
  },
  {
   "cell_type": "code",
   "execution_count": 15,
   "id": "2cd8211a-f668-4c99-849d-5add4262caf9",
   "metadata": {},
   "outputs": [
    {
     "data": {
      "text/plain": [
       "id                                 92.608779\n",
       "name                               92.608779\n",
       "host_id                            92.608779\n",
       "host_name                          92.609627\n",
       "neighbourhood_group                92.569758\n",
       "neighbourhood                      92.569758\n",
       "latitude                           92.608779\n",
       "longitude                          92.608779\n",
       "room_type                          92.608779\n",
       "price                              92.608779\n",
       "minimum_nights                     92.608779\n",
       "number_of_reviews                  92.608779\n",
       "last_review                         1.819727\n",
       "reviews_per_month                  94.389485\n",
       "calculated_host_listings_count     92.608779\n",
       "availability_365                   92.608779\n",
       "number_of_reviews_ltm              92.608779\n",
       "license                           100.000000\n",
       "listing_id                          7.430242\n",
       "dtype: float64"
      ]
     },
     "execution_count": 15,
     "metadata": {},
     "output_type": "execute_result"
    }
   ],
   "source": [
    "# Clean Data:\n",
    "data.isna().sum()/(data.shape[0]) * 100"
   ]
  },
  {
   "cell_type": "code",
   "execution_count": 9,
   "id": "7ecfebb3-cb40-4be2-afd7-5b8ea003de75",
   "metadata": {},
   "outputs": [],
   "source": [
    "data.drop(['listing_id',\"last_review\",\"license\"],axis = 1,inplace =True)"
   ]
  },
  {
   "cell_type": "code",
   "execution_count": 17,
   "id": "805a7548-054f-4b86-8150-f53888e6fa8d",
   "metadata": {},
   "outputs": [
    {
     "name": "stdout",
     "output_type": "stream",
     "text": [
      "<class 'pandas.core.frame.DataFrame'>\n",
      "Index: 589429 entries, 0 to 545632\n",
      "Data columns (total 16 columns):\n",
      " #   Column                          Non-Null Count  Dtype  \n",
      "---  ------                          --------------  -----  \n",
      " 0   id                              43566 non-null  float64\n",
      " 1   name                            43566 non-null  object \n",
      " 2   host_id                         43566 non-null  float64\n",
      " 3   host_name                       43561 non-null  object \n",
      " 4   neighbourhood_group             43796 non-null  object \n",
      " 5   neighbourhood                   43796 non-null  object \n",
      " 6   latitude                        43566 non-null  float64\n",
      " 7   longitude                       43566 non-null  float64\n",
      " 8   room_type                       43566 non-null  object \n",
      " 9   price                           43566 non-null  float64\n",
      " 10  minimum_nights                  43566 non-null  float64\n",
      " 11  number_of_reviews               43566 non-null  float64\n",
      " 12  reviews_per_month               33070 non-null  float64\n",
      " 13  calculated_host_listings_count  43566 non-null  float64\n",
      " 14  availability_365                43566 non-null  float64\n",
      " 15  number_of_reviews_ltm           43566 non-null  float64\n",
      "dtypes: float64(11), object(5)\n",
      "memory usage: 76.4+ MB\n"
     ]
    }
   ],
   "source": [
    "data.info()"
   ]
  },
  {
   "cell_type": "code",
   "execution_count": 10,
   "id": "cc37dfe4-d702-4e71-bcc7-60b983b70560",
   "metadata": {},
   "outputs": [
    {
     "data": {
      "text/plain": [
       "array(['Brooklyn', 'Manhattan', 'Bronx', 'Queens', 'Staten Island', nan],\n",
       "      dtype=object)"
      ]
     },
     "execution_count": 10,
     "metadata": {},
     "output_type": "execute_result"
    }
   ],
   "source": [
    "data.neighbourhood_group.unique()"
   ]
  },
  {
   "cell_type": "code",
   "execution_count": 19,
   "id": "5ae73c64-00c1-440b-8823-24ebd72d66eb",
   "metadata": {},
   "outputs": [
    {
     "data": {
      "text/plain": [
       "array(['Garon', 'Jennifer', 'Bianca', ..., 'Einab', 'Quick Stay',\n",
       "       'Sohaib'], dtype=object)"
      ]
     },
     "execution_count": 19,
     "metadata": {},
     "output_type": "execute_result"
    }
   ],
   "source": [
    "data.host_name.unique()"
   ]
  },
  {
   "cell_type": "code",
   "execution_count": 20,
   "id": "34a81479-1c2e-4dde-b7de-5788cc0d8df2",
   "metadata": {},
   "outputs": [
    {
     "name": "stdout",
     "output_type": "stream",
     "text": [
      "['Brooklyn' 'Manhattan' 'Bronx' 'Queens' 'Staten Island' nan]\n",
      "['Bedford-Stuyvesant' 'Midtown' 'Lower East Side' 'Sunset Park'\n",
      " 'Chinatown' 'Upper West Side' 'South Slope' 'Tribeca' 'Williamsburg'\n",
      " 'Chelsea' 'East Village' 'Greenwich Village' 'Clinton Hill' 'East Harlem'\n",
      " 'Harlem' 'Washington Heights' 'Upper East Side' 'Fort Greene'\n",
      " 'Greenpoint' 'Clason Point' 'Kips Bay' 'Eastchester' 'Flatbush'\n",
      " \"Hell's Kitchen\" 'Crown Heights' 'Carroll Gardens' 'West Village'\n",
      " 'Nolita' 'Park Slope' 'Long Island City' 'East Flatbush' 'Gowanus'\n",
      " 'Forest Hills' 'Murray Hill' 'Prospect Heights' 'Astoria' 'Boerum Hill'\n",
      " 'Sunnyside' 'Kingsbridge' 'St. George' 'Ridgewood' 'Mott Haven'\n",
      " 'Morningside Heights' 'Bushwick' 'Ditmars Steinway' 'Middle Village'\n",
      " 'Jamaica' 'Windsor Terrace' 'University Heights' 'Brooklyn Heights'\n",
      " 'Flatiron District' 'Rockaway Beach' 'Allerton' 'Emerson Hill'\n",
      " 'East New York' 'Theater District' 'Fort Hamilton' 'Bensonhurst'\n",
      " 'Rego Park' 'Wakefield' 'Kensington' 'Stuyvesant Town' 'Woodside'\n",
      " 'Shore Acres' 'Sheepshead Bay' 'Richmond Hill' 'Co-op City'\n",
      " 'Prospect-Lefferts Gardens' 'Little Italy' 'Maspeth' 'Gramercy' 'SoHo'\n",
      " 'Spuyten Duyvil' 'Briarwood' 'Elmhurst' 'Brighton Beach' 'Bayside'\n",
      " 'Inwood' 'Jackson Heights' 'Battery Park City' 'Tottenville'\n",
      " 'Two Bridges' 'Tompkinsville' 'NoHo' 'Cobble Hill' 'Gravesend'\n",
      " 'New Springville' 'Columbia St' 'Mariners Harbor' 'East Elmhurst'\n",
      " 'Concord' 'Flushing' 'Downtown Brooklyn' 'Melrose' 'College Point'\n",
      " 'DUMBO' 'City Island' 'Vinegar Hill' 'Bay Ridge' 'Red Hook' 'Glendale'\n",
      " 'Longwood' 'Financial District' 'Norwood' 'Concourse' 'Canarsie'\n",
      " 'Port Morris' 'Arverne' 'Williamsbridge' 'Soundview' 'Woodhaven'\n",
      " 'Parkchester' 'Bronxdale' 'Sea Gate' 'Ozone Park' 'Bay Terrace' 'Fordham'\n",
      " 'Flatlands' 'Clifton' 'Borough Park' 'Claremont Village'\n",
      " 'Concourse Village' 'Cypress Hills' 'Huguenot' 'Mount Hope' 'Midwood'\n",
      " 'Navy Yard' 'Civic Center' 'Brownsville' 'Fieldston' 'Unionport'\n",
      " 'Roosevelt Island' 'Lighthouse Hill' 'Kew Gardens Hills' 'Kew Gardens'\n",
      " 'Bellerose' 'Fresh Meadows' 'Morris Park' 'South Ozone Park'\n",
      " 'East Morrisania' 'Springfield Gardens' 'Tremont' 'Corona'\n",
      " 'West Brighton' 'Jamaica Estates' 'Manhattan Beach' 'Marble Hill'\n",
      " 'Belmont' 'Castleton Corners' 'Laurelton' 'Hunts Point' 'Randall Manor'\n",
      " 'Great Kills' 'Pelham Bay' 'Howard Beach' 'Silver Lake' 'Riverdale'\n",
      " 'Queens Village' 'Morrisania' 'Grymes Hill' 'Holliswood' 'Morris Heights'\n",
      " 'St. Albans' 'Edgemere' 'New Brighton' 'Pelham Gardens' 'Baychester'\n",
      " 'Cambria Heights' 'Bergen Beach' 'Stapleton' 'Richmondtown' 'Olinville'\n",
      " 'Dyker Heights' 'Coney Island' 'Rosedale' 'Howland Hook' 'Highbridge'\n",
      " 'South Beach' 'Bath Beach' 'Midland Beach' 'Oakwood' 'Arrochar' 'Hollis'\n",
      " 'Mill Basin' 'Edenwald' 'Whitestone' 'Throgs Neck' 'Mount Eden'\n",
      " 'Westchester Square' 'Fort Wadsworth' 'Van Nest' 'Woodlawn' 'Rosebank'\n",
      " 'New Dorp' 'Grant City' 'Port Richmond' 'Far Rockaway' 'Neponsit'\n",
      " 'Country Club' 'Bayswater' 'Willowbrook' 'Douglaston' 'New Dorp Beach'\n",
      " 'Schuylerville' 'West Farms' 'Little Neck' 'Arden Heights'\n",
      " 'Jamaica Hills' \"Prince's Bay\" 'Eltingville' 'Rossville'\n",
      " 'North Riverdale' \"Bull's Head\" 'Castle Hill' 'Belle Harbor'\n",
      " 'Westerleigh' 'Chelsea, Staten Island' 'Gerritsen Beach' 'Breezy Point'\n",
      " 'Todt Hill' 'Dongan Hills' 'Graniteville' 'Woodrow' 'Glen Oaks'\n",
      " 'Hollis Hills' 'Bay Terrace, Staten Island' 'Bloomfield' 'Charleston'\n",
      " 'Pleasant Plains' 'Port Ivory' nan]\n",
      "['Private room' 'Entire home/apt' 'Hotel room' 'Shared room' nan]\n",
      "['Garon' 'Jennifer' 'Bianca' ... 'Einab' 'Quick Stay' 'Sohaib']\n"
     ]
    }
   ],
   "source": [
    "columns = ['neighbourhood_group','neighbourhood','room_type','host_name']\n",
    "for column in data[columns]:\n",
    "    if data[column].dtype == 'object':\n",
    "        print(data[column].unique())\n",
    "    else:\n",
    "        print(\"No object\")"
   ]
  },
  {
   "cell_type": "code",
   "execution_count": 11,
   "id": "578f3d4c-5061-45a9-b38b-62caf621f1f5",
   "metadata": {},
   "outputs": [
    {
     "name": "stdout",
     "output_type": "stream",
     "text": [
      "                 id       host_id      latitude     longitude         price  \\\n",
      "count  4.356600e+04  4.356600e+04  43566.000000  43566.000000  43566.000000   \n",
      "mean   2.582283e+17  1.559275e+08     40.728677    -73.943917    225.216109   \n",
      "std    3.605864e+17  1.655706e+08      0.057564      0.056336    818.738268   \n",
      "min    2.595000e+03  1.678000e+03     40.500314    -74.249840      0.000000   \n",
      "25%    2.021553e+07  1.647671e+07     40.687650    -73.981990     80.000000   \n",
      "50%    4.561689e+07  7.846297e+07     40.724524    -73.952720    136.000000   \n",
      "75%    6.797858e+17  2.789252e+08     40.762750    -73.924150    228.000000   \n",
      "max    9.059818e+17  5.180219e+08     40.911380    -73.710870  90120.000000   \n",
      "\n",
      "       minimum_nights  number_of_reviews  reviews_per_month  \\\n",
      "count    43566.000000       43566.000000       33070.000000   \n",
      "mean        18.700271          26.368544           1.219748   \n",
      "std         27.804388          57.740520           1.777084   \n",
      "min          1.000000           0.000000           0.010000   \n",
      "25%          2.000000           1.000000           0.130000   \n",
      "50%         15.000000           5.000000           0.550000   \n",
      "75%         30.000000          24.000000           1.800000   \n",
      "max       1250.000000        2024.000000          63.950000   \n",
      "\n",
      "       calculated_host_listings_count  availability_365  number_of_reviews_ltm  \n",
      "count                    43566.000000      43566.000000           43566.000000  \n",
      "mean                        30.934857        136.998256               7.882110  \n",
      "std                         99.108628        137.346191              18.250976  \n",
      "min                          1.000000          0.000000               0.000000  \n",
      "25%                          1.000000          0.000000               0.000000  \n",
      "50%                          1.000000         89.000000               1.000000  \n",
      "75%                          5.000000        278.000000               8.000000  \n",
      "max                        569.000000        365.000000            1128.000000  \n"
     ]
    }
   ],
   "source": [
    "summary_stats = data.describe()\n",
    "print(summary_stats)"
   ]
  },
  {
   "cell_type": "code",
   "execution_count": 12,
   "id": "ab5b39bd-55de-42fc-b263-161f002df514",
   "metadata": {},
   "outputs": [
    {
     "data": {
      "image/png": "[encoded data removed]",
      "text/plain": [
       "<Figure size 1000x600 with 1 Axes>"
      ]
     },
     "metadata": {},
     "output_type": "display_data"
    }
   ],
   "source": [
    "plt.figure(figsize=(10, 6))\n",
    "sns.histplot(data['price'], bins=30, kde=True)\n",
    "plt.title('Price Distribution')\n",
    "plt.xlabel('Price')\n",
    "plt.ylabel('Frequency')\n",
    "plt.show()"
   ]
  },
  {
   "cell_type": "code",
   "execution_count": 13,
   "id": "aa9d1d78-b58a-42e0-a494-f25808a614dd",
   "metadata": {},
   "outputs": [
    {
     "data": {
      "image/png": "[encoded data removed]",
      "text/plain": [
       "<Figure size 1000x600 with 1 Axes>"
      ]
     },
     "metadata": {},
     "output_type": "display_data"
    }
   ],
   "source": [
    "plt.figure(figsize=(10, 6))\n",
    "sns.boxplot(x='neighbourhood_group', y='price', data=data)\n",
    "plt.title('Price vs. Neighbourhood Group')\n",
    "plt.xlabel('Neighbourhood Group')\n",
    "plt.ylabel('Price')\n",
    "plt.show()"
   ]
  },
  {
   "cell_type": "code",
   "execution_count": null,
   "id": "d5bb05b5-c729-42f2-8027-51335fa810ab",
   "metadata": {},
   "outputs": [],
   "source": [
    "hosts = data['host_name'].value_counts()\n",
    "print(hosts.nlargest(10)) "
   ]
  },
  {
   "cell_type": "code",
   "execution_count": null,
   "id": "780df3c5-62d7-491a-b676-d171563fbdcd",
   "metadata": {},
   "outputs": [],
   "source": [
    "fig = px.box(data, x='room_type', y='price')\n",
    "fig.show()"
   ]
  },
  {
   "cell_type": "code",
   "execution_count": null,
   "id": "0b1a7c5b-6fed-4b9d-8faf-671d8e007c19",
   "metadata": {},
   "outputs": [],
   "source": [
    "avg_prices = data.groupby('room_type')['price'].mean().reset_index()\n",
    "fig = px.bar(avg_prices, x='room_type', y='price', \n",
    "             title='Average Price per Room Type')\n",
    "fig.show()"
   ]
  },
  {
   "cell_type": "code",
   "execution_count": null,
   "id": "ba29826f-bb43-48b1-9e30-b7d4907dfc8d",
   "metadata": {},
   "outputs": [],
   "source": [
    "X = data[['availability_365', 'minimum_nights']]\n",
    "X = sm.add_constant(X)  # Add constant term for intercept\n",
    "y = data['price']\n",
    "invalid_rows = X[np.isinf(X) | np.isnan(X)]\n",
    "print(invalid_rows)\n",
    "valid_indices = ~(np.any(np.isnan(X), axis=1) | np.any(np.isinf(X), axis=1))\n",
    "X = X[valid_indices]\n",
    "y = y[valid_indices]\n",
    "model = sm.OLS(y, X).fit()\n",
    "print(model.summary())"
   ]
  },
  {
   "cell_type": "code",
   "execution_count": null,
   "id": "2406d4de-53aa-4289-98c5-208ecf120706",
   "metadata": {},
   "outputs": [],
   "source": [
    "fig = px.pie(data, values='price', \n",
    "             names='neighbourhood_group',  \n",
    "             title='Listings Price by Neighbourhood Group')\n",
    "\n",
    "fig.update_traces(hovertemplate='%{label}: <br>$%{value:,.0f}') \n",
    "fig.show()"
   ]
  },
  {
   "cell_type": "code",
   "execution_count": null,
   "id": "e1b68c16-2b18-4dca-b547-02f7c49958f3",
   "metadata": {},
   "outputs": [],
   "source": [
    "fig = px.pie(data, values='number_of_reviews', \n",
    "             names='room_type',\n",
    "             title='Number of Reviews by Room Type')\n",
    "\n",
    "fig.update_traces(hovertemplate='%{label}: <br>%{value:,}')\n",
    "fig.show()"
   ]
  },
  {
   "cell_type": "code",
   "execution_count": null,
   "id": "8cfd5f22-c061-42b9-9f0c-724723a4d750",
   "metadata": {},
   "outputs": [],
   "source": [
    "# Calculate correlation matrix \n",
    "numeric_data = data.select_dtypes(include=['float64', 'int64'])\n",
    "corr = numeric_data.corr()\n",
    "\n",
    "# Create heatmap\n",
    "fig = px.imshow(corr)\n",
    "\n",
    "# Customize heatmap appearance\n",
    "fig.update_xaxes(side=\"top\")\n",
    "fig.update_layout(\n",
    "    title='Correlation Heatmap',\n",
    "    width=700, \n",
    "    height=700,\n",
    "    yaxis_title=None, \n",
    "    xaxis_title=None\n",
    ")\n",
    "\n",
    "# Show heatmap\n",
    "fig.show()"
   ]
  },
  {
   "cell_type": "code",
   "execution_count": null,
   "id": "0db0ef94-da04-4e74-9e9c-c9ada576a626",
   "metadata": {},
   "outputs": [],
   "source": [
    "numeric_data = data.select_dtypes(include=['float64', 'int64'])\n",
    "corr = numeric_data.corr()\n",
    "plt.figure(figsize=(10, 8))\n",
    "sns.heatmap(corr, annot=True, cmap='coolwarm', center=0)\n",
    "plt.title('Correlation Matrix Heatmap')\n",
    "plt.show()\n",
    "corr"
   ]
  },
  {
   "cell_type": "code",
   "execution_count": null,
   "id": "9122adee-4b92-484a-be30-038ef647a14d",
   "metadata": {},
   "outputs": [],
   "source": [
    "Null hypothesis: There is no relationship between reviews per month and listing price.\n",
    "\n",
    "Alternative hypothesis: Listings with more reviews per month have higher prices."
   ]
  },
  {
   "cell_type": "code",
   "execution_count": null,
   "id": "f4f5c959-0739-4b2b-87d5-2eb9d0576a5b",
   "metadata": {},
   "outputs": [],
   "source": [
    "fig = px.histogram(data, x=\"minimum_nights\")\n",
    "fig.show()"
   ]
  },
  {
   "cell_type": "code",
   "execution_count": null,
   "id": "dbbc72b4-6bda-4508-9580-fe2b7aed83f6",
   "metadata": {},
   "outputs": [],
   "source": [
    "fig = px.box(data, y=\"minimum_nights\", color=\"neighbourhood\")\n",
    "fig.show()"
   ]
  },
  {
   "cell_type": "code",
   "execution_count": null,
   "id": "5b4aabeb-b4b2-4318-b76e-bc393d8024a2",
   "metadata": {},
   "outputs": [],
   "source": [
    "fig = px.scatter(data, x=\"minimum_nights\", y=\"price\")\n",
    "fig.show()"
   ]
  },
  {
   "cell_type": "code",
   "execution_count": null,
   "id": "813f4966-1658-453e-9a0a-ac0b6e6d36db",
   "metadata": {},
   "outputs": [],
   "source": [
    "fig = px.violin(data, y=\"minimum_nights\", color=\"neighbourhood\", box=True)\n",
    "fig.show()"
   ]
  },
  {
   "cell_type": "code",
   "execution_count": null,
   "id": "fe741f3b-f05b-49b5-98a1-befdbc1b2648",
   "metadata": {},
   "outputs": [],
   "source": [
    "sns.pairplot(data, diag_kind='kde')\n",
    "plt.show()"
   ]
  },
  {
   "cell_type": "code",
   "execution_count": 36,
   "id": "ddf972b4-c3fd-49f7-ad41-1756fb6b9556",
   "metadata": {},
   "outputs": [
    {
     "name": "stderr",
     "output_type": "stream",
     "text": [
      "/tmp/ipykernel_21838/2274191625.py:1: DeprecationWarning:\n",
      "\n",
      "`import pandas_profiling` is going to be deprecated by April 1st. Please use `import ydata_profiling` instead.\n",
      "\n"
     ]
    }
   ],
   "source": [
    "from pandas_profiling import ProfileReport"
   ]
  },
  {
   "cell_type": "code",
   "execution_count": null,
   "id": "4deb7b39-0c86-4eca-aebc-90b1e9353750",
   "metadata": {},
   "outputs": [],
   "source": [
    "ProfileReport(data)"
   ]
  }
 ],
 "metadata": {
  "kernelspec": {
   "display_name": "Python 3 (ipykernel)",
   "language": "python",
   "name": "python3"
  },
  "language_info": {
   "codemirror_mode": {
    "name": "ipython",
    "version": 3
   },
   "file_extension": ".py",
   "mimetype": "text/x-python",
   "name": "python",
   "nbconvert_exporter": "python",
   "pygments_lexer": "ipython3",
   "version": "3.8.10"
  }
 },
 "nbformat": 4,
 "nbformat_minor": 5
}
